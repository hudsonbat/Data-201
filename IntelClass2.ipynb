{
 "cells": [
  {
   "cell_type": "markdown",
   "metadata": {},
   "source": [
    "## **Project 2: Hyperparameter Optimization**"
   ]
  },
  {
   "cell_type": "code",
   "execution_count": 1,
   "metadata": {},
   "outputs": [],
   "source": [
    "import tensorflow as tf\n",
    "from tensorflow import keras\n",
    "from tensorflow.keras.models import Sequential\n",
    "from tensorflow.keras.layers import Dense, Convolution2D, MaxPooling2D, Flatten, Conv2D, Dropout, BatchNormalization\n",
    "import sklearn\n",
    "import numpy as np\n",
    "import matplotlib.pyplot as plt\n",
    "import os\n",
    "from tensorflow.keras.preprocessing import image"
   ]
  },
  {
   "cell_type": "code",
   "execution_count": 2,
   "metadata": {},
   "outputs": [],
   "source": [
    "trainDIR = '/workspace/seg_train/seg_train/'\n",
    "testDIR = '/workspace/seg_test/seg_test/'\n",
    "predDIR = '/workspace/seg_pred/seg_pred'"
   ]
  },
  {
   "cell_type": "code",
   "execution_count": 3,
   "metadata": {},
   "outputs": [],
   "source": [
    "def get_images(directory):\n",
    "    Images=[]\n",
    "    Labels=[]\n",
    "    \n",
    "    for labels in os.listdir(directory):\n",
    "        if labels == 'glacier':\n",
    "            label = 0\n",
    "        elif labels == 'sea':\n",
    "            label = 1\n",
    "        elif labels == 'buildings':\n",
    "            label = 2\n",
    "        elif labels == 'forest':\n",
    "            label = 3\n",
    "        elif labels == 'mountain':\n",
    "            label = 4\n",
    "        elif labels == 'street':\n",
    "            label = 5\n",
    "        \n",
    "        for file in os.listdir(directory+labels):\n",
    "            im =  image.load_img(directory+labels+r'/'+file, target_size=(150,150))\n",
    "            img = image.img_to_array(im)\n",
    "            Images.append(img)\n",
    "            Labels.append(label)\n",
    "    \n",
    "    Images, Labels = sklearn.utils.shuffle(Images, Labels, random_state=4)\n",
    "    return Images, Labels"
   ]
  },
  {
   "cell_type": "code",
   "execution_count": 4,
   "metadata": {},
   "outputs": [],
   "source": [
    "Images, Labels = get_images(trainDIR)\n",
    "Images = np.array(Images)\n",
    "Labels = np.array(Labels)"
   ]
  },
  {
   "cell_type": "code",
   "execution_count": 5,
   "metadata": {},
   "outputs": [],
   "source": [
    "train = Images[:3000]\n",
    "train_labels=Labels[:3000]"
   ]
  },
  {
   "cell_type": "code",
   "execution_count": 6,
   "metadata": {},
   "outputs": [],
   "source": [
    "test, test_labels = get_images(testDIR)\n",
    "test = np.array(test)\n",
    "test_labels = np.array(test_labels)"
   ]
  },
  {
   "cell_type": "code",
   "execution_count": 7,
   "metadata": {},
   "outputs": [
    {
     "data": {
      "text/plain": [
       "(3000, 150, 150, 3)"
      ]
     },
     "execution_count": 7,
     "metadata": {},
     "output_type": "execute_result"
    }
   ],
   "source": [
    "test.shape"
   ]
  },
  {
   "cell_type": "code",
   "execution_count": 8,
   "metadata": {},
   "outputs": [],
   "source": [
    "def create_model(lr=0.01, nl1 = 1, nl2 = 1, dropout = 0.5,\n",
    "                 nn1 = 32, nn2 = 500, batch_size=32):\n",
    "    \n",
    "    opt = keras.optimizers.Adam(lr=lr)\n",
    "                                                     \n",
    "    model = Sequential()\n",
    "    \n",
    "    for i in range(nl1):\n",
    "        if i == 0:\n",
    "            model.add(Convolution2D(nn1,(3,3), input_shape=(150,150,3), activation='relu'))\n",
    "            model.add(MaxPooling2D((2,2)))\n",
    "            model.add(BatchNormalization())\n",
    "        else:\n",
    "            model.add(Convolution2D(nn1,(3,3), activation='relu'))\n",
    "            model.add(MaxPooling2D((2,2)))\n",
    "            model.add(BatchNormalization())\n",
    "        nn1/=2\n",
    "    model.add(Flatten())\n",
    "        \n",
    "    for i in range(nl2):\n",
    "        model.add(Dense(nn2, activation='relu'))\n",
    "        model.add(BatchNormalization())\n",
    "        nn2/=2\n",
    "    \n",
    "    model.add(Dropout(dropout))   \n",
    "    model.add(Dense(6, activation='softmax'))\n",
    "    \n",
    "    model.compile(loss='sparse_categorical_crossentropy', optimizer=opt, metrics=['accuracy'])\n",
    "    return model\n"
   ]
  },
  {
   "cell_type": "code",
   "execution_count": 9,
   "metadata": {},
   "outputs": [],
   "source": [
    "from tensorflow.keras.wrappers.scikit_learn import KerasClassifier\n",
    "\n",
    "# model class to use in the scikit random search CV \n",
    "model = KerasClassifier(build_fn=create_model, epochs=5, validation_split=0.25)"
   ]
  },
  {
   "cell_type": "code",
   "execution_count": 10,
   "metadata": {},
   "outputs": [],
   "source": [
    "# learning rate parameters\n",
    "lr=[1e-2, 1e-3]\n",
    "\n",
    "# number of neurons in each layer\n",
    "nn1 = [64,32]\n",
    "nn2 = [1000,500]\n",
    "\n",
    "# number of convolutional and maxpooling layers\n",
    "nl1 = [1,2]\n",
    "\n",
    "# number of dense layers (exlcusing output layer)\n",
    "nl2 = [1,2]\n",
    "\n",
    "# batch_sizes\n",
    "batch_size=[64,32]\n",
    "\n",
    "# dropouts\n",
    "\n",
    "dropout = [0,0.5]\n",
    "\n",
    "# dictionary summary\n",
    "param_grid = dict(nn1= nn1, nn2 = nn2, lr=lr, nl1=nl1, nl2=nl2, batch_size=batch_size, dropout = dropout)"
   ]
  },
  {
   "cell_type": "code",
   "execution_count": 11,
   "metadata": {},
   "outputs": [],
   "source": [
    "from sklearn.model_selection import RandomizedSearchCV, KFold\n",
    "\n",
    "grid = RandomizedSearchCV(estimator=model, cv=KFold(3), param_distributions=param_grid, n_iter=3, n_jobs=1)"
   ]
  },
  {
   "cell_type": "code",
   "execution_count": 12,
   "metadata": {},
   "outputs": [
    {
     "name": "stdout",
     "output_type": "stream",
     "text": [
      "Epoch 1/5\n",
      "24/24 [==============================] - 1s 56ms/step - loss: 1.9144 - accuracy: 0.4720 - val_loss: 95.2595 - val_accuracy: 0.2260\n",
      "Epoch 2/5\n",
      "24/24 [==============================] - 1s 23ms/step - loss: 1.1177 - accuracy: 0.5887 - val_loss: 27.2919 - val_accuracy: 0.3140\n",
      "Epoch 3/5\n",
      "24/24 [==============================] - 0s 21ms/step - loss: 0.8426 - accuracy: 0.6747 - val_loss: 7.9727 - val_accuracy: 0.2960\n",
      "Epoch 4/5\n",
      "24/24 [==============================] - 0s 20ms/step - loss: 0.7366 - accuracy: 0.7087 - val_loss: 7.3003 - val_accuracy: 0.2100\n",
      "Epoch 5/5\n",
      "24/24 [==============================] - 1s 22ms/step - loss: 0.6149 - accuracy: 0.7700 - val_loss: 9.8255 - val_accuracy: 0.2180\n",
      "16/16 [==============================] - 0s 9ms/step - loss: 9.4917 - accuracy: 0.2580\n",
      "Epoch 1/5\n",
      "24/24 [==============================] - 1s 29ms/step - loss: 1.9359 - accuracy: 0.4627 - val_loss: 130.2158 - val_accuracy: 0.3320\n",
      "Epoch 2/5\n",
      "24/24 [==============================] - 0s 20ms/step - loss: 1.1416 - accuracy: 0.5873 - val_loss: 127.6157 - val_accuracy: 0.1560\n",
      "Epoch 3/5\n",
      "24/24 [==============================] - 0s 20ms/step - loss: 0.9618 - accuracy: 0.6387 - val_loss: 18.3723 - val_accuracy: 0.2260\n",
      "Epoch 4/5\n",
      "24/24 [==============================] - 0s 20ms/step - loss: 0.7793 - accuracy: 0.7040 - val_loss: 6.7952 - val_accuracy: 0.3680\n",
      "Epoch 5/5\n",
      "24/24 [==============================] - 0s 19ms/step - loss: 0.6935 - accuracy: 0.7387 - val_loss: 4.2844 - val_accuracy: 0.4320\n",
      "16/16 [==============================] - 0s 9ms/step - loss: 3.9297 - accuracy: 0.4580\n",
      "Epoch 1/5\n",
      "24/24 [==============================] - 1s 24ms/step - loss: 2.0824 - accuracy: 0.4067 - val_loss: 94.4566 - val_accuracy: 0.2820\n",
      "Epoch 2/5\n",
      "24/24 [==============================] - 0s 17ms/step - loss: 1.1076 - accuracy: 0.5980 - val_loss: 13.4212 - val_accuracy: 0.3180\n",
      "Epoch 3/5\n",
      "24/24 [==============================] - 0s 17ms/step - loss: 0.9985 - accuracy: 0.6020 - val_loss: 3.1830 - val_accuracy: 0.4800\n",
      "Epoch 4/5\n",
      "24/24 [==============================] - 0s 17ms/step - loss: 0.8185 - accuracy: 0.6773 - val_loss: 3.5871 - val_accuracy: 0.3740\n",
      "Epoch 5/5\n",
      "24/24 [==============================] - 0s 17ms/step - loss: 0.7423 - accuracy: 0.7080 - val_loss: 4.7694 - val_accuracy: 0.3240\n",
      "16/16 [==============================] - 0s 9ms/step - loss: 4.9876 - accuracy: 0.3100\n",
      "Epoch 1/5\n",
      "47/47 [==============================] - 2s 35ms/step - loss: 1.3969 - accuracy: 0.5513 - val_loss: 3.4611 - val_accuracy: 0.4640\n",
      "Epoch 2/5\n",
      "47/47 [==============================] - 1s 16ms/step - loss: 0.6378 - accuracy: 0.7667 - val_loss: 1.5291 - val_accuracy: 0.5240\n",
      "Epoch 3/5\n",
      "47/47 [==============================] - 1s 16ms/step - loss: 0.4047 - accuracy: 0.8527 - val_loss: 1.8345 - val_accuracy: 0.4440\n",
      "Epoch 4/5\n",
      "47/47 [==============================] - 1s 16ms/step - loss: 0.2584 - accuracy: 0.9013 - val_loss: 2.5223 - val_accuracy: 0.4460\n",
      "Epoch 5/5\n",
      "47/47 [==============================] - 1s 16ms/step - loss: 0.2016 - accuracy: 0.9307 - val_loss: 2.3070 - val_accuracy: 0.5740\n",
      "32/32 [==============================] - 0s 7ms/step - loss: 2.0787 - accuracy: 0.6070\n",
      "Epoch 1/5\n",
      "47/47 [==============================] - 1s 19ms/step - loss: 1.4451 - accuracy: 0.5333 - val_loss: 5.8251 - val_accuracy: 0.3080\n",
      "Epoch 2/5\n",
      "47/47 [==============================] - 1s 16ms/step - loss: 0.6706 - accuracy: 0.7607 - val_loss: 5.2992 - val_accuracy: 0.2840\n",
      "Epoch 3/5\n",
      "47/47 [==============================] - 1s 16ms/step - loss: 0.4406 - accuracy: 0.8433 - val_loss: 2.1855 - val_accuracy: 0.4220\n",
      "Epoch 4/5\n",
      "47/47 [==============================] - 1s 17ms/step - loss: 0.2631 - accuracy: 0.9067 - val_loss: 1.1402 - val_accuracy: 0.6300\n",
      "Epoch 5/5\n",
      "47/47 [==============================] - 1s 17ms/step - loss: 0.1953 - accuracy: 0.9340 - val_loss: 2.3893 - val_accuracy: 0.4320\n",
      "32/32 [==============================] - 0s 6ms/step - loss: 2.3824 - accuracy: 0.4840\n",
      "Epoch 1/5\n",
      "47/47 [==============================] - 1s 19ms/step - loss: 1.4194 - accuracy: 0.5440 - val_loss: 7.8187 - val_accuracy: 0.4220\n",
      "Epoch 2/5\n",
      "47/47 [==============================] - 1s 16ms/step - loss: 0.7030 - accuracy: 0.7367 - val_loss: 1.4769 - val_accuracy: 0.5600\n",
      "Epoch 3/5\n",
      "47/47 [==============================] - 1s 16ms/step - loss: 0.4226 - accuracy: 0.8447 - val_loss: 1.0858 - val_accuracy: 0.6280\n",
      "Epoch 4/5\n",
      "47/47 [==============================] - 1s 16ms/step - loss: 0.2922 - accuracy: 0.9007 - val_loss: 2.3750 - val_accuracy: 0.5140\n",
      "Epoch 5/5\n",
      "47/47 [==============================] - 1s 17ms/step - loss: 0.2219 - accuracy: 0.9293 - val_loss: 2.3968 - val_accuracy: 0.5160\n",
      "32/32 [==============================] - 0s 6ms/step - loss: 2.5200 - accuracy: 0.5000\n",
      "Epoch 1/5\n",
      "24/24 [==============================] - 1s 34ms/step - loss: 1.9772 - accuracy: 0.4073 - val_loss: 58.0351 - val_accuracy: 0.2720\n",
      "Epoch 2/5\n",
      "24/24 [==============================] - 1s 29ms/step - loss: 1.2959 - accuracy: 0.5067 - val_loss: 22.8809 - val_accuracy: 0.2560\n",
      "Epoch 3/5\n",
      "24/24 [==============================] - 1s 30ms/step - loss: 1.0994 - accuracy: 0.5740 - val_loss: 4.4369 - val_accuracy: 0.3900\n",
      "Epoch 4/5\n",
      "24/24 [==============================] - 1s 30ms/step - loss: 0.9683 - accuracy: 0.6327 - val_loss: 3.1362 - val_accuracy: 0.4440\n",
      "Epoch 5/5\n",
      "24/24 [==============================] - 1s 30ms/step - loss: 0.7834 - accuracy: 0.7080 - val_loss: 3.5909 - val_accuracy: 0.4000\n",
      "16/16 [==============================] - 0s 11ms/step - loss: 3.1973 - accuracy: 0.4450\n",
      "Epoch 1/5\n",
      " 1/24 [>.............................] - ETA: 0s - loss: 2.9302 - accuracy: 0.1562WARNING:tensorflow:Callbacks method `on_train_batch_end` is slow compared to the batch time (batch time: 0.0092s vs `on_train_batch_end` time: 0.0140s). Check your callbacks.\n",
      "24/24 [==============================] - 1s 35ms/step - loss: 1.7375 - accuracy: 0.4373 - val_loss: 69.6419 - val_accuracy: 0.3940\n",
      "Epoch 2/5\n",
      "24/24 [==============================] - 1s 30ms/step - loss: 1.2855 - accuracy: 0.5353 - val_loss: 7.0712 - val_accuracy: 0.4620\n",
      "Epoch 3/5\n",
      "24/24 [==============================] - 1s 30ms/step - loss: 1.0917 - accuracy: 0.5873 - val_loss: 5.2139 - val_accuracy: 0.4740\n",
      "Epoch 4/5\n",
      "24/24 [==============================] - 1s 30ms/step - loss: 0.9427 - accuracy: 0.6347 - val_loss: 2.6527 - val_accuracy: 0.4680\n",
      "Epoch 5/5\n",
      "24/24 [==============================] - 1s 29ms/step - loss: 0.7911 - accuracy: 0.6920 - val_loss: 2.1116 - val_accuracy: 0.4960\n",
      "16/16 [==============================] - 0s 9ms/step - loss: 1.7697 - accuracy: 0.5160\n",
      "Epoch 1/5\n",
      "24/24 [==============================] - 1s 34ms/step - loss: 1.9248 - accuracy: 0.4167 - val_loss: 65.5073 - val_accuracy: 0.2120\n",
      "Epoch 2/5\n",
      "24/24 [==============================] - 1s 39ms/step - loss: 1.2106 - accuracy: 0.5420 - val_loss: 14.2910 - val_accuracy: 0.3420\n",
      "Epoch 3/5\n",
      "24/24 [==============================] - 1s 30ms/step - loss: 1.0852 - accuracy: 0.5767 - val_loss: 5.1651 - val_accuracy: 0.4380\n",
      "Epoch 4/5\n",
      "24/24 [==============================] - 1s 30ms/step - loss: 1.0445 - accuracy: 0.6060 - val_loss: 4.5304 - val_accuracy: 0.3660\n",
      "Epoch 5/5\n",
      "24/24 [==============================] - 1s 31ms/step - loss: 0.8117 - accuracy: 0.6747 - val_loss: 7.0742 - val_accuracy: 0.2640\n",
      "16/16 [==============================] - 0s 9ms/step - loss: 7.2722 - accuracy: 0.2380\n",
      "Epoch 1/5\n",
      "71/71 [==============================] - 1s 20ms/step - loss: 1.3234 - accuracy: 0.5649 - val_loss: 3.4349 - val_accuracy: 0.4627\n",
      "Epoch 2/5\n",
      "71/71 [==============================] - 1s 17ms/step - loss: 0.6260 - accuracy: 0.7778 - val_loss: 1.3888 - val_accuracy: 0.5733\n",
      "Epoch 3/5\n",
      "71/71 [==============================] - 1s 17ms/step - loss: 0.3774 - accuracy: 0.8636 - val_loss: 1.9007 - val_accuracy: 0.5267\n",
      "Epoch 4/5\n",
      "71/71 [==============================] - 1s 17ms/step - loss: 0.2247 - accuracy: 0.9227 - val_loss: 1.4765 - val_accuracy: 0.5467\n",
      "Epoch 5/5\n",
      "71/71 [==============================] - 1s 17ms/step - loss: 0.1193 - accuracy: 0.9591 - val_loss: 1.2123 - val_accuracy: 0.6587\n"
     ]
    }
   ],
   "source": [
    "grid_result = grid.fit(train, train_labels)"
   ]
  },
  {
   "cell_type": "code",
   "execution_count": 13,
   "metadata": {},
   "outputs": [
    {
     "name": "stdout",
     "output_type": "stream",
     "text": [
      "{'nn2': 1000, 'nn1': 64, 'nl2': 2, 'nl1': 2, 'lr': 0.001, 'dropout': 0, 'batch_size': 32}\n"
     ]
    }
   ],
   "source": [
    "print(grid_result.best_params_)"
   ]
  },
  {
   "cell_type": "code",
   "execution_count": 14,
   "metadata": {},
   "outputs": [],
   "source": [
    "best_model = grid_result.best_estimator_.model"
   ]
  },
  {
   "cell_type": "code",
   "execution_count": 15,
   "metadata": {},
   "outputs": [
    {
     "name": "stdout",
     "output_type": "stream",
     "text": [
      "94/94 [==============================] - 1s 7ms/step - loss: 1.2645 - accuracy: 0.6343\n"
     ]
    },
    {
     "data": {
      "text/plain": [
       "[1.2645362615585327, 0.6343333125114441]"
      ]
     },
     "execution_count": 15,
     "metadata": {},
     "output_type": "execute_result"
    }
   ],
   "source": [
    "best_model.evaluate(test,test_labels)"
   ]
  },
  {
   "cell_type": "code",
   "execution_count": null,
   "metadata": {},
   "outputs": [],
   "source": []
  },
  {
   "cell_type": "code",
   "execution_count": null,
   "metadata": {},
   "outputs": [],
   "source": []
  },
  {
   "cell_type": "code",
   "execution_count": null,
   "metadata": {},
   "outputs": [],
   "source": []
  },
  {
   "cell_type": "code",
   "execution_count": null,
   "metadata": {},
   "outputs": [],
   "source": []
  },
  {
   "cell_type": "code",
   "execution_count": null,
   "metadata": {},
   "outputs": [],
   "source": []
  }
 ],
 "metadata": {
  "kernelspec": {
   "display_name": "Python 3",
   "language": "python",
   "name": "python3"
  },
  "language_info": {
   "codemirror_mode": {
    "name": "ipython",
    "version": 3
   },
   "file_extension": ".py",
   "mimetype": "text/x-python",
   "name": "python",
   "nbconvert_exporter": "python",
   "pygments_lexer": "ipython3",
   "version": "3.6.9"
  }
 },
 "nbformat": 4,
 "nbformat_minor": 4
}
