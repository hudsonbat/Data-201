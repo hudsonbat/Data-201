{
 "cells": [
  {
   "cell_type": "markdown",
   "metadata": {},
   "source": [
    "## **Project 2: Hyperparameter Optimization**"
   ]
  },
  {
   "cell_type": "code",
   "execution_count": 1,
   "metadata": {},
   "outputs": [],
   "source": [
    "import tensorflow as tf\n",
    "from tensorflow import keras\n",
    "from tensorflow.keras.models import Sequential\n",
    "from tensorflow.keras.layers import Dense, Convolution2D, MaxPooling2D, Flatten, Conv2D, Dropout, BatchNormalization\n",
    "import sklearn\n",
    "import numpy as np\n",
    "import matplotlib.pyplot as plt\n",
    "import os\n",
    "from tensorflow.keras.preprocessing import image"
   ]
  },
  {
   "cell_type": "code",
   "execution_count": 2,
   "metadata": {},
   "outputs": [],
   "source": [
    "trainDIR = '/workspace/seg_train/seg_train/'\n",
    "testDIR = '/workspace/seg_test/seg_test/'\n",
    "predDIR = '/workspace/seg_pred/seg_pred'"
   ]
  },
  {
   "cell_type": "code",
   "execution_count": 3,
   "metadata": {},
   "outputs": [],
   "source": [
    "def get_images(directory):\n",
    "    Images=[]\n",
    "    Labels=[]\n",
    "    \n",
    "    for labels in os.listdir(directory):\n",
    "        if labels == 'glacier':\n",
    "            label = 0\n",
    "        elif labels == 'sea':\n",
    "            label = 1\n",
    "        elif labels == 'buildings':\n",
    "            label = 2\n",
    "        elif labels == 'forest':\n",
    "            label = 3\n",
    "        elif labels == 'mountain':\n",
    "            label = 4\n",
    "        elif labels == 'street':\n",
    "            label = 5\n",
    "        \n",
    "        for file in os.listdir(directory+labels):\n",
    "            im =  image.load_img(directory+labels+r'/'+file, target_size=(150,150))\n",
    "            img = image.img_to_array(im)\n",
    "            Images.append(img)\n",
    "            Labels.append(label)\n",
    "    \n",
    "    Images, Labels = sklearn.utils.shuffle(Images, Labels, random_state=4)\n",
    "    return Images, Labels"
   ]
  },
  {
   "cell_type": "code",
   "execution_count": 4,
   "metadata": {},
   "outputs": [],
   "source": [
    "Images, Labels = get_images(trainDIR)\n",
    "Images = np.array(Images)\n",
    "Labels = np.array(Labels)"
   ]
  },
  {
   "cell_type": "code",
   "execution_count": 5,
   "metadata": {},
   "outputs": [],
   "source": [
    "train = Images[:3000]\n",
    "train_labels=Labels[:3000]"
   ]
  },
  {
   "cell_type": "code",
   "execution_count": 6,
   "metadata": {},
   "outputs": [],
   "source": [
    "test, test_labels = get_images(testDIR)\n",
    "test = np.array(test)\n",
    "test_labels = np.array(test_labels)"
   ]
  },
  {
   "cell_type": "code",
   "execution_count": 7,
   "metadata": {},
   "outputs": [
    {
     "data": {
      "text/plain": [
       "(3000, 150, 150, 3)"
      ]
     },
     "execution_count": 7,
     "metadata": {},
     "output_type": "execute_result"
    }
   ],
   "source": [
    "test.shape"
   ]
  },
  {
   "cell_type": "code",
   "execution_count": 8,
   "metadata": {},
   "outputs": [],
   "source": [
    "def create_model(lr=0.01, nl1 = 1, nl2 = 1,\n",
    "                 nn1 = 32, nn2 = 500):\n",
    "    \n",
    "    opt = keras.optimizers.Adam(lr=lr)\n",
    "                                                     \n",
    "    model = Sequential()\n",
    "    \n",
    "    for i in range(nl1):\n",
    "        if i == 0:\n",
    "            model.add(Convolution2D(nn1,(3,3), input_shape=(150,150,3), activation='relu'))\n",
    "            model.add(MaxPooling2D((2,2)))\n",
    "        else:\n",
    "            model.add(Convolution2D(nn1,(3,3), activation='relu'))\n",
    "            model.add(MaxPooling2D((2,2)))\n",
    "        model.add(Flatten())\n",
    "        nn1/=2\n",
    "        \n",
    "    for i in range(nl2):\n",
    "        model.add(Dense(nn2, activation='relu'))\n",
    "        nn2/=2\n",
    "    \n",
    "    model.add(Dropout(0))   \n",
    "    model.add(Dense(6, activation='softmax'))\n",
    "    \n",
    "    model.compile(loss='sparse_categorical_crossentropy', optimizer=opt, metrics=['accuracy'])\n",
    "    return model\n"
   ]
  },
  {
   "cell_type": "code",
   "execution_count": 9,
   "metadata": {},
   "outputs": [],
   "source": [
    "from tensorflow.keras.wrappers.scikit_learn import KerasClassifier\n",
    "\n",
    "# model class to use in the scikit random search CV \n",
    "model = KerasClassifier(build_fn=create_model, epochs=5, batch_size=32, validation_split=0.25)"
   ]
  },
  {
   "cell_type": "code",
   "execution_count": 10,
   "metadata": {},
   "outputs": [],
   "source": [
    "# learning rate parameters\n",
    "lr=[1e-2, 1e-3]\n",
    "\n",
    "# of neurons in each layer\n",
    "nn1 = [64,32]\n",
    "nn2 = [1000,500]\n",
    "\n",
    "# of convolutional and maxpooling layers\n",
    "nl1 = [1,2]\n",
    "\n",
    "# of dense layers (exlcusing output layer)\n",
    "nl2 = [1,2]\n",
    "\n",
    "# dictionary summary\n",
    "param_grid = dict(nn1= nn1, nn2 = nn2, lr=lr, nl1=nl1, nl2=nl2)"
   ]
  },
  {
   "cell_type": "code",
   "execution_count": 11,
   "metadata": {},
   "outputs": [],
   "source": [
    "from sklearn.model_selection import RandomizedSearchCV, KFold\n",
    "\n",
    "grid = RandomizedSearchCV(estimator=model, cv=KFold(3), param_distributions=param_grid, n_iter=3, n_jobs=1)"
   ]
  },
  {
   "cell_type": "code",
   "execution_count": 12,
   "metadata": {},
   "outputs": [
    {
     "name": "stdout",
     "output_type": "stream",
     "text": [
      "Epoch 1/5\n",
      "47/47 [==============================] - 1s 21ms/step - loss: 4864.3843 - accuracy: 0.2047 - val_loss: 1.8901 - val_accuracy: 0.1620\n",
      "Epoch 2/5\n",
      "47/47 [==============================] - 1s 15ms/step - loss: 1.7662 - accuracy: 0.2040 - val_loss: 1.8529 - val_accuracy: 0.1660\n",
      "Epoch 3/5\n",
      "47/47 [==============================] - 1s 15ms/step - loss: 1.7026 - accuracy: 0.2387 - val_loss: 1.8555 - val_accuracy: 0.1760\n",
      "Epoch 4/5\n",
      "47/47 [==============================] - 1s 15ms/step - loss: 1.6783 - accuracy: 0.2573 - val_loss: 1.8719 - val_accuracy: 0.1620\n",
      "Epoch 5/5\n",
      "47/47 [==============================] - 1s 15ms/step - loss: 1.6549 - accuracy: 0.2480 - val_loss: 1.8776 - val_accuracy: 0.1660\n",
      "32/32 [==============================] - 0s 6ms/step - loss: 1.9675 - accuracy: 0.1680\n",
      "Epoch 1/5\n",
      "47/47 [==============================] - 1s 16ms/step - loss: 9286.1875 - accuracy: 0.1793 - val_loss: 1.9170 - val_accuracy: 0.1840\n",
      "Epoch 2/5\n",
      "47/47 [==============================] - 1s 15ms/step - loss: 1.8101 - accuracy: 0.1800 - val_loss: 1.8758 - val_accuracy: 0.1880\n",
      "Epoch 3/5\n",
      "47/47 [==============================] - 1s 15ms/step - loss: 1.7461 - accuracy: 0.2320 - val_loss: 1.8757 - val_accuracy: 0.1540\n",
      "Epoch 4/5\n",
      "47/47 [==============================] - 1s 15ms/step - loss: 1.6956 - accuracy: 0.2440 - val_loss: 1.9233 - val_accuracy: 0.1460\n",
      "Epoch 5/5\n",
      "47/47 [==============================] - 1s 15ms/step - loss: 1.6577 - accuracy: 0.2473 - val_loss: 1.9404 - val_accuracy: 0.1900\n",
      "32/32 [==============================] - 0s 6ms/step - loss: 1.8659 - accuracy: 0.1770\n",
      "Epoch 1/5\n",
      "47/47 [==============================] - 1s 16ms/step - loss: 9385.4805 - accuracy: 0.2000 - val_loss: 1.8909 - val_accuracy: 0.1900\n",
      "Epoch 2/5\n",
      "47/47 [==============================] - 1s 14ms/step - loss: 1.7017 - accuracy: 0.2793 - val_loss: 1.8568 - val_accuracy: 0.1940\n",
      "Epoch 3/5\n",
      "47/47 [==============================] - 1s 15ms/step - loss: 1.6014 - accuracy: 0.3280 - val_loss: 1.8609 - val_accuracy: 0.2020\n",
      "Epoch 4/5\n",
      "47/47 [==============================] - 1s 15ms/step - loss: 1.5355 - accuracy: 0.3480 - val_loss: 1.8685 - val_accuracy: 0.2040\n",
      "Epoch 5/5\n",
      "47/47 [==============================] - 1s 15ms/step - loss: 1.4748 - accuracy: 0.3833 - val_loss: 1.9052 - val_accuracy: 0.2100\n",
      "32/32 [==============================] - 0s 6ms/step - loss: 1.9314 - accuracy: 0.1980\n",
      "Epoch 1/5\n",
      "47/47 [==============================] - 2s 39ms/step - loss: 15554.2402 - accuracy: 0.1960 - val_loss: 1.8001 - val_accuracy: 0.1500\n",
      "Epoch 2/5\n",
      "47/47 [==============================] - 2s 32ms/step - loss: 1.7898 - accuracy: 0.1880 - val_loss: 1.8025 - val_accuracy: 0.1520\n",
      "Epoch 3/5\n",
      "47/47 [==============================] - 1s 30ms/step - loss: 1.7812 - accuracy: 0.1900 - val_loss: 1.8305 - val_accuracy: 0.1540\n",
      "Epoch 4/5\n",
      "47/47 [==============================] - 1s 31ms/step - loss: 1.7534 - accuracy: 0.2387 - val_loss: 1.9397 - val_accuracy: 0.1620\n",
      "Epoch 5/5\n",
      "47/47 [==============================] - 1s 31ms/step - loss: 1.6897 - accuracy: 0.2540 - val_loss: 1.9769 - val_accuracy: 0.1580\n",
      "32/32 [==============================] - 0s 8ms/step - loss: 2.0323 - accuracy: 0.1680\n",
      "Epoch 1/5\n",
      " 1/47 [..............................] - ETA: 0s - loss: 56.3168 - accuracy: 0.1562WARNING:tensorflow:Callbacks method `on_train_batch_end` is slow compared to the batch time (batch time: 0.0076s vs `on_train_batch_end` time: 0.0187s). Check your callbacks.\n",
      "47/47 [==============================] - 1s 31ms/step - loss: 13499.0996 - accuracy: 0.1640 - val_loss: 1.8259 - val_accuracy: 0.1660\n",
      "Epoch 2/5\n",
      "47/47 [==============================] - 1s 30ms/step - loss: 1.7895 - accuracy: 0.1620 - val_loss: 1.8217 - val_accuracy: 0.1820\n",
      "Epoch 3/5\n",
      "47/47 [==============================] - 1s 30ms/step - loss: 1.7856 - accuracy: 0.1667 - val_loss: 1.8213 - val_accuracy: 0.1820\n",
      "Epoch 4/5\n",
      "47/47 [==============================] - 1s 30ms/step - loss: 1.7841 - accuracy: 0.1780 - val_loss: 1.8217 - val_accuracy: 0.1860\n",
      "Epoch 5/5\n",
      "47/47 [==============================] - 1s 30ms/step - loss: 1.7825 - accuracy: 0.1833 - val_loss: 1.8239 - val_accuracy: 0.1660\n",
      "32/32 [==============================] - 0s 8ms/step - loss: 1.7973 - accuracy: 0.1640\n",
      "Epoch 1/5\n",
      " 1/47 [..............................] - ETA: 0s - loss: 68.3796 - accuracy: 0.0625WARNING:tensorflow:Callbacks method `on_train_batch_end` is slow compared to the batch time (batch time: 0.0076s vs `on_train_batch_end` time: 0.0191s). Check your callbacks.\n",
      "47/47 [==============================] - 1s 32ms/step - loss: 20138.7461 - accuracy: 0.1727 - val_loss: 1.8344 - val_accuracy: 0.1660\n",
      "Epoch 2/5\n",
      "47/47 [==============================] - 1s 30ms/step - loss: 1.7751 - accuracy: 0.1807 - val_loss: 1.8723 - val_accuracy: 0.1820\n",
      "Epoch 3/5\n",
      "47/47 [==============================] - 1s 30ms/step - loss: 1.7583 - accuracy: 0.2000 - val_loss: 1.8408 - val_accuracy: 0.1680\n",
      "Epoch 4/5\n",
      "47/47 [==============================] - 1s 30ms/step - loss: 1.7615 - accuracy: 0.2200 - val_loss: 2.0207 - val_accuracy: 0.1760\n",
      "Epoch 5/5\n",
      "47/47 [==============================] - 1s 30ms/step - loss: 1.7136 - accuracy: 0.2273 - val_loss: 2.0427 - val_accuracy: 0.1780\n",
      "32/32 [==============================] - 0s 7ms/step - loss: 1.9122 - accuracy: 0.1840\n",
      "Epoch 1/5\n",
      " 1/47 [..............................] - ETA: 0s - loss: 75.5188 - accuracy: 0.1250WARNING:tensorflow:Callbacks method `on_train_batch_end` is slow compared to the batch time (batch time: 0.0060s vs `on_train_batch_end` time: 0.0092s). Check your callbacks.\n",
      "47/47 [==============================] - 1s 21ms/step - loss: 4041.3311 - accuracy: 0.3073 - val_loss: 166.4716 - val_accuracy: 0.4660\n",
      "Epoch 2/5\n",
      "47/47 [==============================] - 1s 19ms/step - loss: 81.0184 - accuracy: 0.5773 - val_loss: 79.8476 - val_accuracy: 0.4640\n",
      "Epoch 3/5\n",
      "47/47 [==============================] - 1s 20ms/step - loss: 33.3984 - accuracy: 0.6873 - val_loss: 112.5382 - val_accuracy: 0.5120\n",
      "Epoch 4/5\n",
      "47/47 [==============================] - 1s 20ms/step - loss: 14.6763 - accuracy: 0.8327 - val_loss: 72.7435 - val_accuracy: 0.4940\n",
      "Epoch 5/5\n",
      "47/47 [==============================] - 1s 20ms/step - loss: 9.0819 - accuracy: 0.8420 - val_loss: 40.7786 - val_accuracy: 0.6280\n",
      "32/32 [==============================] - 0s 6ms/step - loss: 37.6878 - accuracy: 0.6290\n",
      "Epoch 1/5\n",
      " 1/47 [..............................] - ETA: 0s - loss: 67.0834 - accuracy: 0.1562WARNING:tensorflow:Callbacks method `on_train_batch_end` is slow compared to the batch time (batch time: 0.0059s vs `on_train_batch_end` time: 0.0093s). Check your callbacks.\n",
      "47/47 [==============================] - 1s 21ms/step - loss: 1798.5570 - accuracy: 0.3313 - val_loss: 60.7311 - val_accuracy: 0.4800\n",
      "Epoch 2/5\n",
      "47/47 [==============================] - 1s 20ms/step - loss: 16.5013 - accuracy: 0.6213 - val_loss: 19.5847 - val_accuracy: 0.5020\n",
      "Epoch 3/5\n",
      "47/47 [==============================] - 1s 20ms/step - loss: 1.9440 - accuracy: 0.8540 - val_loss: 15.6320 - val_accuracy: 0.5600\n",
      "Epoch 4/5\n",
      "47/47 [==============================] - 1s 20ms/step - loss: 1.1884 - accuracy: 0.8853 - val_loss: 15.4085 - val_accuracy: 0.5460\n",
      "Epoch 5/5\n",
      "47/47 [==============================] - 1s 20ms/step - loss: 0.6238 - accuracy: 0.9413 - val_loss: 15.6345 - val_accuracy: 0.5960\n",
      "32/32 [==============================] - 0s 6ms/step - loss: 14.0452 - accuracy: 0.5880\n",
      "Epoch 1/5\n",
      " 1/47 [..............................] - ETA: 0s - loss: 75.5867 - accuracy: 0.1250WARNING:tensorflow:Callbacks method `on_train_batch_end` is slow compared to the batch time (batch time: 0.0062s vs `on_train_batch_end` time: 0.0093s). Check your callbacks.\n",
      "47/47 [==============================] - 1s 20ms/step - loss: 3293.9854 - accuracy: 0.2933 - val_loss: 80.2168 - val_accuracy: 0.4240\n",
      "Epoch 2/5\n",
      "47/47 [==============================] - 1s 19ms/step - loss: 31.3455 - accuracy: 0.5427 - val_loss: 31.5740 - val_accuracy: 0.5120\n",
      "Epoch 3/5\n",
      "47/47 [==============================] - 1s 20ms/step - loss: 11.9342 - accuracy: 0.7287 - val_loss: 25.0992 - val_accuracy: 0.5340\n",
      "Epoch 4/5\n",
      "47/47 [==============================] - 1s 20ms/step - loss: 3.2198 - accuracy: 0.8620 - val_loss: 24.9391 - val_accuracy: 0.5460\n",
      "Epoch 5/5\n",
      "47/47 [==============================] - 1s 20ms/step - loss: 3.6281 - accuracy: 0.8707 - val_loss: 22.5054 - val_accuracy: 0.5860\n",
      "32/32 [==============================] - 0s 6ms/step - loss: 16.6477 - accuracy: 0.6030\n",
      "Epoch 1/5\n",
      "71/71 [==============================] - 2s 21ms/step - loss: 1848.4719 - accuracy: 0.3422 - val_loss: 16.0983 - val_accuracy: 0.4467\n",
      "Epoch 2/5\n",
      "71/71 [==============================] - 1s 20ms/step - loss: 4.1812 - accuracy: 0.7231 - val_loss: 9.1145 - val_accuracy: 0.5400\n",
      "Epoch 3/5\n",
      "71/71 [==============================] - 1s 20ms/step - loss: 0.5197 - accuracy: 0.9178 - val_loss: 7.2583 - val_accuracy: 0.5667\n",
      "Epoch 4/5\n",
      "71/71 [==============================] - 1s 20ms/step - loss: 0.2726 - accuracy: 0.9573 - val_loss: 10.6642 - val_accuracy: 0.5067\n",
      "Epoch 5/5\n",
      "71/71 [==============================] - 1s 20ms/step - loss: 0.2621 - accuracy: 0.9720 - val_loss: 9.4278 - val_accuracy: 0.5533\n"
     ]
    }
   ],
   "source": [
    "grid_result = grid.fit(train, train_labels)"
   ]
  },
  {
   "cell_type": "code",
   "execution_count": 13,
   "metadata": {},
   "outputs": [
    {
     "name": "stdout",
     "output_type": "stream",
     "text": [
      "{'nn2': 1000, 'nn1': 32, 'nl2': 2, 'nl1': 1, 'lr': 0.001}\n"
     ]
    }
   ],
   "source": [
    "print(grid_result.best_params_)"
   ]
  },
  {
   "cell_type": "code",
   "execution_count": 14,
   "metadata": {},
   "outputs": [],
   "source": [
    "best_model = grid_result.best_estimator_.model"
   ]
  },
  {
   "cell_type": "code",
   "execution_count": 15,
   "metadata": {},
   "outputs": [
    {
     "name": "stdout",
     "output_type": "stream",
     "text": [
      "94/94 [==============================] - 1s 6ms/step - loss: 8.5759 - accuracy: 0.5533\n"
     ]
    },
    {
     "data": {
      "text/plain": [
       "[8.575867652893066, 0.5533333420753479]"
      ]
     },
     "execution_count": 15,
     "metadata": {},
     "output_type": "execute_result"
    }
   ],
   "source": [
    "best_model.evaluate(test,test_labels)"
   ]
  },
  {
   "cell_type": "code",
   "execution_count": null,
   "metadata": {},
   "outputs": [],
   "source": []
  },
  {
   "cell_type": "code",
   "execution_count": null,
   "metadata": {},
   "outputs": [],
   "source": []
  },
  {
   "cell_type": "code",
   "execution_count": null,
   "metadata": {},
   "outputs": [],
   "source": []
  },
  {
   "cell_type": "code",
   "execution_count": null,
   "metadata": {},
   "outputs": [],
   "source": []
  },
  {
   "cell_type": "code",
   "execution_count": null,
   "metadata": {},
   "outputs": [],
   "source": []
  }
 ],
 "metadata": {
  "kernelspec": {
   "display_name": "Python 3",
   "language": "python",
   "name": "python3"
  },
  "language_info": {
   "codemirror_mode": {
    "name": "ipython",
    "version": 3
   },
   "file_extension": ".py",
   "mimetype": "text/x-python",
   "name": "python",
   "nbconvert_exporter": "python",
   "pygments_lexer": "ipython3",
   "version": "3.6.9"
  }
 },
 "nbformat": 4,
 "nbformat_minor": 4
}
