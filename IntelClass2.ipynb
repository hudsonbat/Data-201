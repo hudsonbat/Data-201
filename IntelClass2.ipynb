{
 "cells": [
  {
   "cell_type": "markdown",
   "metadata": {},
   "source": [
    "## **Project 2: Hyperparameter Optimization**"
   ]
  },
  {
   "cell_type": "code",
   "execution_count": 1,
   "metadata": {},
   "outputs": [],
   "source": [
    "import tensorflow as tf\n",
    "from tensorflow import keras\n",
    "from tensorflow.keras.models import Sequential\n",
    "from tensorflow.keras.layers import Dense, Convolution2D, MaxPooling2D, Flatten, Conv2D, Dropout\n",
    "from tensorflow.keras.preprocessing.image import ImageDataGenerator\n",
    "import sklearn\n",
    "import numpy as np\n",
    "import pandas as pd\n",
    "import os\n",
    "import matplotlib.pyplot as plt\n",
    "import zipfile\n",
    "from tensorflow.keras.preprocessing import image\n",
    "import os"
   ]
  },
  {
   "cell_type": "code",
   "execution_count": 2,
   "metadata": {},
   "outputs": [],
   "source": [
    "trainDIR = '/workspace/seg_train/seg_train/'\n",
    "testDIR = '/workspace/seg_test/seg_test/'\n",
    "predDIR = '/workspace/seg_pred/seg_pred'"
   ]
  },
  {
   "cell_type": "code",
   "execution_count": 3,
   "metadata": {},
   "outputs": [],
   "source": [
    "def get_images(directory):\n",
    "    Images=[]\n",
    "    Labels=[]\n",
    "    \n",
    "    for labels in os.listdir(directory):\n",
    "        if labels == 'glacier':\n",
    "            label = 0\n",
    "        elif labels == 'sea':\n",
    "            label = 1\n",
    "        elif labels == 'buildings':\n",
    "            label = 2\n",
    "        elif labels == 'forest':\n",
    "            label = 3\n",
    "        elif labels == 'mountain':\n",
    "            label = 4\n",
    "        elif labels == 'street':\n",
    "            label = 5\n",
    "        \n",
    "        for file in os.listdir(directory+labels):\n",
    "            im =  image.load_img(directory+labels+r'/'+file, target_size=(150,150))\n",
    "            img = image.img_to_array(im)\n",
    "            Images.append(img)\n",
    "            Labels.append(label)\n",
    "    \n",
    "    Images, Labels = sklearn.utils.shuffle(Images, Labels, random_state=14)\n",
    "    return Images, Labels"
   ]
  },
  {
   "cell_type": "code",
   "execution_count": 4,
   "metadata": {},
   "outputs": [],
   "source": [
    "Images, Labels = get_images(trainDIR)\n",
    "Images = np.array(Images)\n",
    "Labels = np.array(Labels)"
   ]
  },
  {
   "cell_type": "code",
   "execution_count": 5,
   "metadata": {},
   "outputs": [],
   "source": [
    "def create_model(lr=0.01, opt = keras.optimizers.Adam(),\n",
    "                 nn1 = 32, nn2 = 100):\n",
    "                                                     \n",
    "    model = Sequential()\n",
    "    \n",
    "    model.add(Convolution2D(nn1,(3,3), input_shape=(150,150,3), activation='relu'))\n",
    "    model.add(MaxPooling2D((2,2)))\n",
    "    model.add(Flatten())\n",
    "    model.add(Dense(nn2, activation='relu'))\n",
    "    model.add(Dropout(0))   \n",
    "    model.add(Dense(6, activation='softmax'))\n",
    "    \n",
    "    model.compile(loss='sparse_categorical_crossentropy', optimizer=opt, metrics=['accuracy'])\n",
    "    return model\n"
   ]
  },
  {
   "cell_type": "code",
   "execution_count": 7,
   "metadata": {},
   "outputs": [],
   "source": [
    "from tensorflow.keras.wrappers.scikit_learn import KerasClassifier\n",
    "\n",
    "# model class to use in the scikit random search CV \n",
    "model = KerasClassifier(build_fn=create_model, epochs=10, batch_size=5, validation_split=0.25)"
   ]
  },
  {
   "cell_type": "code",
   "execution_count": 8,
   "metadata": {},
   "outputs": [],
   "source": [
    "# learning rate parameters\n",
    "lr=[1e-2, 1e-3]\n",
    "\n",
    "# neurons in each layer\n",
    "nn1 = [32,64]\n",
    "nn2 = [100,200]\n",
    "\n",
    "# optimizer\n",
    "optimizer = ['adam','rmsprop']\n",
    "\n",
    "# dictionary summary\n",
    "param_grid = dict(nn1= nn1, nn2 = nn2, lr=lr, opt=optimizer)"
   ]
  },
  {
   "cell_type": "code",
   "execution_count": 9,
   "metadata": {},
   "outputs": [],
   "source": [
    "from sklearn.model_selection import RandomizedSearchCV, KFold\n",
    "\n",
    "grid = RandomizedSearchCV(estimator=model, cv=KFold(3), param_distributions=param_grid, n_iter=3, n_jobs=1)"
   ]
  },
  {
   "cell_type": "code",
   "execution_count": 11,
   "metadata": {},
   "outputs": [
    {
     "name": "stdout",
     "output_type": "stream",
     "text": [
      "Epoch 1/10\n",
      "1404/1404 [==============================] - 10s 7ms/step - loss: 50.3023 - accuracy: 0.4193 - val_loss: 1.9947 - val_accuracy: 0.4729\n",
      "Epoch 2/10\n",
      "1404/1404 [==============================] - 10s 7ms/step - loss: 0.6590 - accuracy: 0.8129 - val_loss: 2.3656 - val_accuracy: 0.4938\n",
      "Epoch 3/10\n",
      "1404/1404 [==============================] - 10s 7ms/step - loss: 0.3085 - accuracy: 0.9206 - val_loss: 3.0699 - val_accuracy: 0.4643\n",
      "Epoch 4/10\n",
      "1404/1404 [==============================] - 10s 7ms/step - loss: 0.4371 - accuracy: 0.8992 - val_loss: 3.6869 - val_accuracy: 0.4558\n",
      "Epoch 5/10\n",
      "1404/1404 [==============================] - 10s 7ms/step - loss: 0.6087 - accuracy: 0.8630 - val_loss: 3.0759 - val_accuracy: 0.4267\n",
      "Epoch 6/10\n",
      "1404/1404 [==============================] - 10s 7ms/step - loss: 0.4994 - accuracy: 0.8887 - val_loss: 2.9821 - val_accuracy: 0.4562\n",
      "Epoch 7/10\n",
      "1404/1404 [==============================] - 10s 7ms/step - loss: 0.3649 - accuracy: 0.9152 - val_loss: 3.8261 - val_accuracy: 0.4292\n",
      "Epoch 8/10\n",
      "1404/1404 [==============================] - 10s 7ms/step - loss: 0.3204 - accuracy: 0.9273 - val_loss: 5.8548 - val_accuracy: 0.3942\n",
      "Epoch 9/10\n",
      "1404/1404 [==============================] - 10s 7ms/step - loss: 0.2583 - accuracy: 0.9448 - val_loss: 6.7423 - val_accuracy: 0.4126\n",
      "Epoch 10/10\n",
      "1404/1404 [==============================] - 10s 7ms/step - loss: 0.2618 - accuracy: 0.9403 - val_loss: 7.0478 - val_accuracy: 0.4250\n",
      "936/936 [==============================] - 3s 4ms/step - loss: 7.6152 - accuracy: 0.4190\n",
      "Epoch 1/10\n",
      "1404/1404 [==============================] - 10s 7ms/step - loss: 57.2552 - accuracy: 0.4126 - val_loss: 1.9642 - val_accuracy: 0.4211\n",
      "Epoch 2/10\n",
      "1404/1404 [==============================] - 9s 7ms/step - loss: 0.8427 - accuracy: 0.7633 - val_loss: 2.6744 - val_accuracy: 0.4361\n",
      "Epoch 3/10\n",
      "1404/1404 [==============================] - 10s 7ms/step - loss: 0.5363 - accuracy: 0.8710 - val_loss: 2.8509 - val_accuracy: 0.4472\n",
      "Epoch 4/10\n",
      "1404/1404 [==============================] - 10s 7ms/step - loss: 0.5542 - accuracy: 0.8712 - val_loss: 3.7477 - val_accuracy: 0.4186\n",
      "Epoch 5/10\n",
      "1404/1404 [==============================] - 10s 7ms/step - loss: 0.6588 - accuracy: 0.8525 - val_loss: 3.7263 - val_accuracy: 0.3989\n",
      "Epoch 6/10\n",
      "1404/1404 [==============================] - 10s 7ms/step - loss: 0.5008 - accuracy: 0.8884 - val_loss: 3.9304 - val_accuracy: 0.4241\n",
      "Epoch 7/10\n",
      "1404/1404 [==============================] - 10s 7ms/step - loss: 0.5787 - accuracy: 0.8861 - val_loss: 4.9328 - val_accuracy: 0.4275\n",
      "Epoch 8/10\n",
      "1404/1404 [==============================] - 9s 7ms/step - loss: 0.3747 - accuracy: 0.9240 - val_loss: 4.4256 - val_accuracy: 0.4207\n",
      "Epoch 9/10\n",
      "1404/1404 [==============================] - 9s 7ms/step - loss: 0.2984 - accuracy: 0.9349 - val_loss: 5.4679 - val_accuracy: 0.4416\n",
      "Epoch 10/10\n",
      "1404/1404 [==============================] - 10s 7ms/step - loss: 0.3213 - accuracy: 0.9354 - val_loss: 6.4582 - val_accuracy: 0.4096\n",
      "936/936 [==============================] - 3s 4ms/step - loss: 6.9800 - accuracy: 0.3959\n",
      "Epoch 1/10\n",
      "1404/1404 [==============================] - 10s 7ms/step - loss: 44.5144 - accuracy: 0.2379 - val_loss: 1.7699 - val_accuracy: 0.1830\n",
      "Epoch 2/10\n",
      "1404/1404 [==============================] - 10s 7ms/step - loss: 1.7627 - accuracy: 0.2364 - val_loss: 1.7899 - val_accuracy: 0.1740\n",
      "Epoch 3/10\n",
      "1404/1404 [==============================] - 10s 7ms/step - loss: 1.7746 - accuracy: 0.2159 - val_loss: 1.6851 - val_accuracy: 0.2351\n",
      "Epoch 4/10\n",
      "1404/1404 [==============================] - 10s 7ms/step - loss: 1.7539 - accuracy: 0.2102 - val_loss: 1.7935 - val_accuracy: 0.1710\n",
      "Epoch 5/10\n",
      "1404/1404 [==============================] - 10s 7ms/step - loss: 1.7948 - accuracy: 0.1823 - val_loss: 1.7917 - val_accuracy: 0.1706\n",
      "Epoch 6/10\n",
      "1404/1404 [==============================] - 10s 7ms/step - loss: 1.7905 - accuracy: 0.1801 - val_loss: 1.7919 - val_accuracy: 0.1706\n",
      "Epoch 7/10\n",
      "1404/1404 [==============================] - 10s 7ms/step - loss: 1.7904 - accuracy: 0.1807 - val_loss: 1.7922 - val_accuracy: 0.1706\n",
      "Epoch 8/10\n",
      "1404/1404 [==============================] - 10s 7ms/step - loss: 1.7904 - accuracy: 0.1810 - val_loss: 1.7921 - val_accuracy: 0.1706\n",
      "Epoch 9/10\n",
      "1404/1404 [==============================] - 10s 7ms/step - loss: 1.7905 - accuracy: 0.1757 - val_loss: 1.7924 - val_accuracy: 0.1706\n",
      "Epoch 10/10\n",
      "1404/1404 [==============================] - 10s 7ms/step - loss: 1.7905 - accuracy: 0.1820 - val_loss: 1.7919 - val_accuracy: 0.1706\n",
      "936/936 [==============================] - 3s 4ms/step - loss: 1.7918 - accuracy: 0.1789\n",
      "Epoch 1/10\n",
      "1404/1404 [==============================] - 14s 10ms/step - loss: 54.1338 - accuracy: 0.4267 - val_loss: 1.7845 - val_accuracy: 0.4237\n",
      "Epoch 2/10\n",
      "1404/1404 [==============================] - 14s 10ms/step - loss: 0.6420 - accuracy: 0.8156 - val_loss: 2.3339 - val_accuracy: 0.4763\n",
      "Epoch 3/10\n",
      "1404/1404 [==============================] - 13s 10ms/step - loss: 0.3251 - accuracy: 0.9239 - val_loss: 3.1417 - val_accuracy: 0.4622\n",
      "Epoch 4/10\n",
      "1404/1404 [==============================] - 13s 9ms/step - loss: 0.3408 - accuracy: 0.9316 - val_loss: 3.3078 - val_accuracy: 0.4143\n",
      "Epoch 5/10\n",
      "1404/1404 [==============================] - 13s 10ms/step - loss: 0.4742 - accuracy: 0.8903 - val_loss: 3.4674 - val_accuracy: 0.4408\n",
      "Epoch 6/10\n",
      "1404/1404 [==============================] - 14s 10ms/step - loss: 0.5597 - accuracy: 0.8870 - val_loss: 6.8697 - val_accuracy: 0.4553\n",
      "Epoch 7/10\n",
      "1404/1404 [==============================] - 13s 10ms/step - loss: 0.4700 - accuracy: 0.9114 - val_loss: 3.9925 - val_accuracy: 0.4083\n",
      "Epoch 8/10\n",
      "1404/1404 [==============================] - 14s 10ms/step - loss: 0.5137 - accuracy: 0.8876 - val_loss: 4.7699 - val_accuracy: 0.4173\n",
      "Epoch 9/10\n",
      "1404/1404 [==============================] - 14s 10ms/step - loss: 0.3056 - accuracy: 0.9266 - val_loss: 5.5013 - val_accuracy: 0.4455\n",
      "Epoch 10/10\n",
      "1404/1404 [==============================] - 13s 10ms/step - loss: 0.2179 - accuracy: 0.9414 - val_loss: 7.3839 - val_accuracy: 0.3938\n",
      "936/936 [==============================] - 3s 4ms/step - loss: 7.3282 - accuracy: 0.3927\n",
      "Epoch 1/10\n",
      "1404/1404 [==============================] - 14s 10ms/step - loss: 95.5346 - accuracy: 0.4694 - val_loss: 1.9314 - val_accuracy: 0.4810\n",
      "Epoch 2/10\n",
      "1404/1404 [==============================] - 14s 10ms/step - loss: 0.6937 - accuracy: 0.8250 - val_loss: 2.2177 - val_accuracy: 0.5122\n",
      "Epoch 3/10\n",
      "1404/1404 [==============================] - 13s 10ms/step - loss: 0.2727 - accuracy: 0.9407 - val_loss: 3.1299 - val_accuracy: 0.4900\n",
      "Epoch 4/10\n",
      "1404/1404 [==============================] - 13s 10ms/step - loss: 0.5112 - accuracy: 0.9270 - val_loss: 2.8028 - val_accuracy: 0.5032\n",
      "Epoch 5/10\n",
      "1404/1404 [==============================] - 14s 10ms/step - loss: 0.5486 - accuracy: 0.9121 - val_loss: 3.0909 - val_accuracy: 0.4536\n",
      "Epoch 6/10\n",
      "1404/1404 [==============================] - 13s 10ms/step - loss: 0.5330 - accuracy: 0.8967 - val_loss: 3.4442 - val_accuracy: 0.4425\n",
      "Epoch 7/10\n",
      "1404/1404 [==============================] - 13s 10ms/step - loss: 0.4375 - accuracy: 0.9096 - val_loss: 3.4727 - val_accuracy: 0.4434\n",
      "Epoch 8/10\n",
      "1404/1404 [==============================] - 13s 10ms/step - loss: 0.3332 - accuracy: 0.9305 - val_loss: 4.3258 - val_accuracy: 0.4344\n",
      "Epoch 9/10\n",
      "1404/1404 [==============================] - 14s 10ms/step - loss: 0.3398 - accuracy: 0.9329 - val_loss: 4.8457 - val_accuracy: 0.4361\n",
      "Epoch 10/10\n",
      "1404/1404 [==============================] - 13s 10ms/step - loss: 0.4151 - accuracy: 0.9343 - val_loss: 5.5498 - val_accuracy: 0.4211\n",
      "936/936 [==============================] - 3s 4ms/step - loss: 6.0279 - accuracy: 0.4410\n",
      "Epoch 1/10\n",
      "1404/1404 [==============================] - 13s 10ms/step - loss: 64.0611 - accuracy: 0.4282 - val_loss: 1.8266 - val_accuracy: 0.4310\n",
      "Epoch 2/10\n",
      "1404/1404 [==============================] - 13s 10ms/step - loss: 0.6300 - accuracy: 0.7986 - val_loss: 2.6206 - val_accuracy: 0.4583\n",
      "Epoch 3/10\n",
      "1404/1404 [==============================] - 14s 10ms/step - loss: 0.3134 - accuracy: 0.9216 - val_loss: 3.9553 - val_accuracy: 0.4767\n",
      "Epoch 4/10\n",
      "1404/1404 [==============================] - 13s 10ms/step - loss: 0.5283 - accuracy: 0.8809 - val_loss: 4.5378 - val_accuracy: 0.4186\n",
      "Epoch 5/10\n",
      "1404/1404 [==============================] - 14s 10ms/step - loss: 0.5924 - accuracy: 0.8633 - val_loss: 3.7625 - val_accuracy: 0.3912\n",
      "Epoch 6/10\n",
      "1404/1404 [==============================] - 13s 10ms/step - loss: 0.5390 - accuracy: 0.9028 - val_loss: 4.7379 - val_accuracy: 0.3942\n",
      "Epoch 7/10\n",
      "1404/1404 [==============================] - 14s 10ms/step - loss: 0.5682 - accuracy: 0.8891 - val_loss: 4.2867 - val_accuracy: 0.3916\n",
      "Epoch 8/10\n",
      "1404/1404 [==============================] - 13s 10ms/step - loss: 0.4371 - accuracy: 0.9049 - val_loss: 5.9535 - val_accuracy: 0.3822\n",
      "Epoch 9/10\n",
      "1404/1404 [==============================] - 14s 10ms/step - loss: 0.4060 - accuracy: 0.9280 - val_loss: 7.2983 - val_accuracy: 0.4079\n",
      "Epoch 10/10\n",
      "1404/1404 [==============================] - 13s 10ms/step - loss: 0.3595 - accuracy: 0.9262 - val_loss: 8.5463 - val_accuracy: 0.3989\n",
      "936/936 [==============================] - 3s 4ms/step - loss: 8.2749 - accuracy: 0.4139\n",
      "Epoch 1/10\n",
      "1404/1404 [==============================] - 11s 8ms/step - loss: 79.5404 - accuracy: 0.4342 - val_loss: 2.7600 - val_accuracy: 0.4241\n",
      "Epoch 2/10\n",
      "1404/1404 [==============================] - 11s 8ms/step - loss: 0.7431 - accuracy: 0.7969 - val_loss: 2.9238 - val_accuracy: 0.4596\n",
      "Epoch 3/10\n",
      "1404/1404 [==============================] - 11s 8ms/step - loss: 0.2950 - accuracy: 0.9242 - val_loss: 3.3227 - val_accuracy: 0.4895\n",
      "Epoch 4/10\n",
      "1404/1404 [==============================] - 11s 8ms/step - loss: 0.2995 - accuracy: 0.9436 - val_loss: 3.8038 - val_accuracy: 0.4647\n",
      "Epoch 5/10\n",
      "1404/1404 [==============================] - 11s 8ms/step - loss: 0.5338 - accuracy: 0.9004 - val_loss: 3.9361 - val_accuracy: 0.4463\n",
      "Epoch 6/10\n",
      "1404/1404 [==============================] - 10s 7ms/step - loss: 0.4659 - accuracy: 0.9096 - val_loss: 3.4948 - val_accuracy: 0.4267\n",
      "Epoch 7/10\n",
      "1404/1404 [==============================] - 11s 8ms/step - loss: 0.3146 - accuracy: 0.9296 - val_loss: 4.7646 - val_accuracy: 0.4711\n",
      "Epoch 8/10\n",
      "1404/1404 [==============================] - 11s 7ms/step - loss: 0.3636 - accuracy: 0.9297 - val_loss: 4.9775 - val_accuracy: 0.4297\n",
      "Epoch 9/10\n",
      "1404/1404 [==============================] - 11s 8ms/step - loss: 0.4011 - accuracy: 0.9332 - val_loss: 7.1341 - val_accuracy: 0.4434\n",
      "Epoch 10/10\n",
      "1404/1404 [==============================] - 11s 8ms/step - loss: 0.3006 - accuracy: 0.9389 - val_loss: 6.5213 - val_accuracy: 0.4408\n",
      "936/936 [==============================] - 3s 4ms/step - loss: 6.4904 - accuracy: 0.4389\n",
      "Epoch 1/10\n",
      "1404/1404 [==============================] - 11s 8ms/step - loss: 73.4899 - accuracy: 0.4280 - val_loss: 2.0020 - val_accuracy: 0.4284\n",
      "Epoch 2/10\n",
      "1404/1404 [==============================] - 11s 8ms/step - loss: 0.8250 - accuracy: 0.7680 - val_loss: 2.5413 - val_accuracy: 0.4596\n",
      "Epoch 3/10\n",
      "1404/1404 [==============================] - 11s 8ms/step - loss: 0.3709 - accuracy: 0.9096 - val_loss: 3.2876 - val_accuracy: 0.4870\n",
      "Epoch 4/10\n",
      "1404/1404 [==============================] - 11s 8ms/step - loss: 0.4351 - accuracy: 0.9218 - val_loss: 4.3204 - val_accuracy: 0.4186\n",
      "Epoch 5/10\n",
      "1404/1404 [==============================] - 11s 8ms/step - loss: 0.7251 - accuracy: 0.8626 - val_loss: 4.4175 - val_accuracy: 0.4062\n",
      "Epoch 6/10\n",
      "1404/1404 [==============================] - 11s 8ms/step - loss: 0.5342 - accuracy: 0.9005 - val_loss: 4.1966 - val_accuracy: 0.4044\n",
      "Epoch 7/10\n",
      "1404/1404 [==============================] - 11s 8ms/step - loss: 0.3269 - accuracy: 0.9337 - val_loss: 3.8625 - val_accuracy: 0.4139\n",
      "Epoch 8/10\n",
      "1404/1404 [==============================] - 11s 8ms/step - loss: 0.3697 - accuracy: 0.9181 - val_loss: 6.1946 - val_accuracy: 0.3732\n",
      "Epoch 9/10\n",
      "1404/1404 [==============================] - 11s 8ms/step - loss: 0.5367 - accuracy: 0.9269 - val_loss: 6.2465 - val_accuracy: 0.3886\n",
      "Epoch 10/10\n",
      "1404/1404 [==============================] - 11s 8ms/step - loss: 0.2638 - accuracy: 0.9454 - val_loss: 7.7149 - val_accuracy: 0.4258\n",
      "936/936 [==============================] - 3s 4ms/step - loss: 8.2208 - accuracy: 0.4070\n",
      "Epoch 1/10\n",
      "1404/1404 [==============================] - 11s 8ms/step - loss: 96.3336 - accuracy: 0.4321 - val_loss: 2.4324 - val_accuracy: 0.4297\n",
      "Epoch 2/10\n",
      "1404/1404 [==============================] - 11s 8ms/step - loss: 0.7123 - accuracy: 0.8021 - val_loss: 2.9816 - val_accuracy: 0.4656\n",
      "Epoch 3/10\n",
      "1404/1404 [==============================] - 11s 8ms/step - loss: 0.4346 - accuracy: 0.9212 - val_loss: 3.7131 - val_accuracy: 0.4729\n",
      "Epoch 4/10\n",
      "1404/1404 [==============================] - 11s 8ms/step - loss: 0.3826 - accuracy: 0.9192 - val_loss: 3.9347 - val_accuracy: 0.4549\n",
      "Epoch 5/10\n",
      "1404/1404 [==============================] - 11s 8ms/step - loss: 0.5997 - accuracy: 0.8826 - val_loss: 4.5766 - val_accuracy: 0.4386\n",
      "Epoch 6/10\n",
      "1404/1404 [==============================] - 11s 8ms/step - loss: 0.4933 - accuracy: 0.8958 - val_loss: 4.6138 - val_accuracy: 0.4374\n",
      "Epoch 7/10\n",
      "1404/1404 [==============================] - 11s 8ms/step - loss: 0.4395 - accuracy: 0.9094 - val_loss: 4.7125 - val_accuracy: 0.3891\n",
      "Epoch 8/10\n",
      "1404/1404 [==============================] - 11s 8ms/step - loss: 0.3673 - accuracy: 0.9215 - val_loss: 5.7504 - val_accuracy: 0.4369\n",
      "Epoch 9/10\n",
      "1404/1404 [==============================] - 11s 8ms/step - loss: 0.2636 - accuracy: 0.9446 - val_loss: 8.1455 - val_accuracy: 0.4404\n",
      "Epoch 10/10\n",
      "1404/1404 [==============================] - 11s 8ms/step - loss: 0.2609 - accuracy: 0.9434 - val_loss: 7.5162 - val_accuracy: 0.4181\n",
      "936/936 [==============================] - 3s 4ms/step - loss: 6.7730 - accuracy: 0.4186\n",
      "Epoch 1/10\n",
      "2105/2105 [==============================] - 16s 8ms/step - loss: 53.4127 - accuracy: 0.4313 - val_loss: 1.8594 - val_accuracy: 0.4323\n",
      "Epoch 2/10\n",
      "2105/2105 [==============================] - 15s 7ms/step - loss: 0.7830 - accuracy: 0.7584 - val_loss: 2.5351 - val_accuracy: 0.4639\n",
      "Epoch 3/10\n",
      "2105/2105 [==============================] - 15s 7ms/step - loss: 0.5313 - accuracy: 0.8511 - val_loss: 2.8325 - val_accuracy: 0.4309\n",
      "Epoch 4/10\n",
      "2105/2105 [==============================] - 15s 7ms/step - loss: 0.7639 - accuracy: 0.8172 - val_loss: 3.4053 - val_accuracy: 0.4409\n",
      "Epoch 5/10\n",
      "2105/2105 [==============================] - 15s 7ms/step - loss: 0.5614 - accuracy: 0.8677 - val_loss: 4.3455 - val_accuracy: 0.4038\n",
      "Epoch 6/10\n",
      "2105/2105 [==============================] - 15s 7ms/step - loss: 0.4448 - accuracy: 0.8894 - val_loss: 4.6274 - val_accuracy: 0.4158\n",
      "Epoch 7/10\n",
      "2105/2105 [==============================] - 15s 7ms/step - loss: 0.4042 - accuracy: 0.9149 - val_loss: 5.0415 - val_accuracy: 0.4169\n",
      "Epoch 8/10\n",
      "2105/2105 [==============================] - 15s 7ms/step - loss: 0.3095 - accuracy: 0.9351 - val_loss: 7.2064 - val_accuracy: 0.4044\n",
      "Epoch 9/10\n",
      "2105/2105 [==============================] - 15s 7ms/step - loss: 0.2848 - accuracy: 0.9360 - val_loss: 7.0323 - val_accuracy: 0.4007\n",
      "Epoch 10/10\n",
      "2105/2105 [==============================] - 15s 7ms/step - loss: 0.3218 - accuracy: 0.9339 - val_loss: 9.0822 - val_accuracy: 0.4010\n"
     ]
    }
   ],
   "source": [
    "grid_result = grid.fit(Images, Labels)"
   ]
  },
  {
   "cell_type": "code",
   "execution_count": 12,
   "metadata": {},
   "outputs": [
    {
     "name": "stdout",
     "output_type": "stream",
     "text": [
      "{'opt': 'adam', 'nn2': 200, 'nn1': 32, 'lr': 0.01}\n"
     ]
    }
   ],
   "source": [
    "print(grid_result.best_params_)"
   ]
  },
  {
   "cell_type": "code",
   "execution_count": 13,
   "metadata": {},
   "outputs": [],
   "source": [
    "best_model = grid_result.best_estimator_.model"
   ]
  },
  {
   "cell_type": "code",
   "execution_count": 14,
   "metadata": {},
   "outputs": [],
   "source": [
    "test, test_labels = get_images(testDIR)\n",
    "test = np.array(test)\n",
    "test_labels = np.array(test_labels)"
   ]
  },
  {
   "cell_type": "code",
   "execution_count": 15,
   "metadata": {},
   "outputs": [
    {
     "name": "stdout",
     "output_type": "stream",
     "text": [
      "94/94 [==============================] - 1s 6ms/step - loss: 9.3592 - accuracy: 0.3927\n"
     ]
    },
    {
     "data": {
      "text/plain": [
       "[9.359158515930176, 0.39266666769981384]"
      ]
     },
     "execution_count": 15,
     "metadata": {},
     "output_type": "execute_result"
    }
   ],
   "source": [
    "best_model.evaluate(test,test_labels)"
   ]
  },
  {
   "cell_type": "code",
   "execution_count": null,
   "metadata": {},
   "outputs": [],
   "source": []
  },
  {
   "cell_type": "code",
   "execution_count": null,
   "metadata": {},
   "outputs": [],
   "source": []
  },
  {
   "cell_type": "code",
   "execution_count": null,
   "metadata": {},
   "outputs": [],
   "source": []
  },
  {
   "cell_type": "code",
   "execution_count": null,
   "metadata": {},
   "outputs": [],
   "source": []
  },
  {
   "cell_type": "code",
   "execution_count": null,
   "metadata": {},
   "outputs": [],
   "source": []
  }
 ],
 "metadata": {
  "kernelspec": {
   "display_name": "Python 3",
   "language": "python",
   "name": "python3"
  },
  "language_info": {
   "codemirror_mode": {
    "name": "ipython",
    "version": 3
   },
   "file_extension": ".py",
   "mimetype": "text/x-python",
   "name": "python",
   "nbconvert_exporter": "python",
   "pygments_lexer": "ipython3",
   "version": "3.6.9"
  }
 },
 "nbformat": 4,
 "nbformat_minor": 4
}
