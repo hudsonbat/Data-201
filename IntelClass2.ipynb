{
 "cells": [
  {
   "cell_type": "code",
   "execution_count": 21,
   "metadata": {},
   "outputs": [],
   "source": [
    "import tensorflow as tf\n",
    "from tensorflow import keras\n",
    "from tensorflow.keras.models import Sequential\n",
    "from tensorflow.keras.layers import Dense, Convolution2D, MaxPooling2D, Flatten, Conv2D, Dropout\n",
    "from tensorflow.keras.preprocessing.image import ImageDataGenerator\n",
    "import sklearn\n",
    "import numpy as np\n",
    "import pandas as pd\n",
    "import os\n",
    "import matplotlib.pyplot as plt\n",
    "import zipfile\n",
    "from tensorflow.keras.preprocessing import image\n",
    "import os"
   ]
  },
  {
   "cell_type": "code",
   "execution_count": 22,
   "metadata": {},
   "outputs": [],
   "source": [
    "trainDIR = '/workspace/seg_train/seg_train/'\n",
    "testDIR = '/workspace/seg_test/seg_test/'\n",
    "predDIR = '/workspace/seg_pred/seg_pred'"
   ]
  },
  {
   "cell_type": "code",
   "execution_count": 23,
   "metadata": {},
   "outputs": [],
   "source": [
    "def get_images(directory):\n",
    "    Images=[]\n",
    "    Labels=[]\n",
    "    \n",
    "    for labels in os.listdir(directory):\n",
    "        if labels == 'glacier':\n",
    "            label = 0\n",
    "        elif labels == 'sea':\n",
    "            label = 1\n",
    "        elif labels == 'buildings':\n",
    "            label = 2\n",
    "        elif labels == 'forest':\n",
    "            label = 3\n",
    "        elif labels == 'mountain':\n",
    "            label = 4\n",
    "        elif labels == 'street':\n",
    "            label = 5\n",
    "        \n",
    "        for file in os.listdir(directory+labels):\n",
    "            im =  image.load_img(directory+labels+r'/'+file, target_size=(150,150))\n",
    "            img = image.img_to_array(im)\n",
    "            Images.append(img)\n",
    "            Labels.append(label)\n",
    "    \n",
    "    Images, Labels = sklearn.utils.shuffle(Images, Labels, random_state=14)\n",
    "    return Images, Labels"
   ]
  },
  {
   "cell_type": "code",
   "execution_count": 24,
   "metadata": {},
   "outputs": [],
   "source": [
    "Images, Labels = get_images(trainDIR)\n",
    "Images = np.array(Images)\n",
    "Labels = np.array(Labels)"
   ]
  },
  {
   "cell_type": "code",
   "execution_count": 25,
   "metadata": {},
   "outputs": [],
   "source": [
    "def create_model(lr=0.01, opt = keras.optimizers.Adam(),\n",
    "                 nn1 = 32, nn2 = 100):\n",
    "                                                     \n",
    "    model = Sequential()\n",
    "    \n",
    "    model.add(Convolution2D(nn1,(3,3), input_shape=(150,150,3), activation='relu'))\n",
    "    model.add(MaxPooling2D((2,2)))\n",
    "    model.add(Flatten())\n",
    "    model.add(Dense(nn2, activation='relu'))\n",
    "    model.add(Dropout(0))   \n",
    "    model.add(Dense(6, activation='softmax'))\n",
    "    \n",
    "    model.compile(loss='sparse_categorical_crossentropy', optimizer=opt, metrics=['accuracy'])\n",
    "    return model\n"
   ]
  },
  {
   "cell_type": "code",
   "execution_count": 26,
   "metadata": {},
   "outputs": [],
   "source": [
    "from tensorflow.keras.wrappers.scikit_learn import KerasClassifier\n",
    "\n",
    "# model class to use in the scikit random search CV \n",
    "model = KerasClassifier(build_fn=create_model, epochs=10, batch_size=5)"
   ]
  },
  {
   "cell_type": "code",
   "execution_count": 27,
   "metadata": {},
   "outputs": [],
   "source": [
    "# learning rate parameters\n",
    "lr=[1e-2, 1e-3]\n",
    "\n",
    "# neurons in each layer\n",
    "nn1 = [32,64]\n",
    "nn2 = [100,200]\n",
    "\n",
    "# optimizer\n",
    "optimizer = ['adam','rmsprop']\n",
    "\n",
    "# dictionary summary\n",
    "param_grid = dict(nn1= nn1, nn2 = nn2, lr=lr, opt=optimizer)"
   ]
  },
  {
   "cell_type": "code",
   "execution_count": 28,
   "metadata": {},
   "outputs": [],
   "source": [
    "from sklearn.model_selection import RandomizedSearchCV, KFold\n",
    "\n",
    "grid = RandomizedSearchCV(estimator=model, cv=KFold(3), param_distributions=param_grid, n_iter=3, n_jobs=1)"
   ]
  },
  {
   "cell_type": "code",
   "execution_count": 29,
   "metadata": {},
   "outputs": [
    {
     "name": "stdout",
     "output_type": "stream",
     "text": [
      "Epoch 1/10\n",
      "1872/1872 [==============================] - 12s 6ms/step - loss: 38.0760 - accuracy: 0.4330\n",
      "Epoch 2/10\n",
      "1872/1872 [==============================] - 12s 6ms/step - loss: 0.6517 - accuracy: 0.7915\n",
      "Epoch 3/10\n",
      "1872/1872 [==============================] - 12s 6ms/step - loss: 0.4038 - accuracy: 0.8888\n",
      "Epoch 4/10\n",
      "1872/1872 [==============================] - 12s 7ms/step - loss: 0.5727 - accuracy: 0.8580\n",
      "Epoch 5/10\n",
      "1872/1872 [==============================] - 12s 7ms/step - loss: 0.5842 - accuracy: 0.8625\n",
      "Epoch 6/10\n",
      "1872/1872 [==============================] - 12s 6ms/step - loss: 0.3200 - accuracy: 0.9197\n",
      "Epoch 7/10\n",
      "1872/1872 [==============================] - 12s 7ms/step - loss: 0.3041 - accuracy: 0.9290\n",
      "Epoch 8/10\n",
      "1872/1872 [==============================] - 12s 7ms/step - loss: 0.2890 - accuracy: 0.9302\n",
      "Epoch 9/10\n",
      "1872/1872 [==============================] - 12s 7ms/step - loss: 0.2945 - accuracy: 0.9434\n",
      "Epoch 10/10\n",
      "1872/1872 [==============================] - 12s 7ms/step - loss: 0.3687 - accuracy: 0.9413\n",
      "936/936 [==============================] - 3s 4ms/step - loss: 10.2412 - accuracy: 0.4074\n",
      "Epoch 1/10\n",
      "1872/1872 [==============================] - 12s 7ms/step - loss: 56.2032 - accuracy: 0.4153\n",
      "Epoch 2/10\n",
      "1872/1872 [==============================] - 12s 7ms/step - loss: 0.7452 - accuracy: 0.7781\n",
      "Epoch 3/10\n",
      "1872/1872 [==============================] - 12s 7ms/step - loss: 0.4017 - accuracy: 0.8926\n",
      "Epoch 4/10\n",
      "1872/1872 [==============================] - 12s 7ms/step - loss: 0.5577 - accuracy: 0.8747\n",
      "Epoch 5/10\n",
      "1872/1872 [==============================] - 12s 7ms/step - loss: 0.4913 - accuracy: 0.8909\n",
      "Epoch 6/10\n",
      "1872/1872 [==============================] - 12s 7ms/step - loss: 0.4338 - accuracy: 0.8862\n",
      "Epoch 7/10\n",
      "1872/1872 [==============================] - 12s 7ms/step - loss: 0.4389 - accuracy: 0.9041\n",
      "Epoch 8/10\n",
      "1872/1872 [==============================] - 12s 7ms/step - loss: 0.3259 - accuracy: 0.9194\n",
      "Epoch 9/10\n",
      "1872/1872 [==============================] - 12s 7ms/step - loss: 0.3659 - accuracy: 0.9265\n",
      "Epoch 10/10\n",
      "1872/1872 [==============================] - 12s 7ms/step - loss: 0.2419 - accuracy: 0.9366\n",
      "936/936 [==============================] - 3s 4ms/step - loss: 7.4973 - accuracy: 0.3880\n",
      "Epoch 1/10\n",
      "1872/1872 [==============================] - 12s 7ms/step - loss: 78.4250 - accuracy: 0.4578\n",
      "Epoch 2/10\n",
      "1872/1872 [==============================] - 12s 7ms/step - loss: 0.7274 - accuracy: 0.7841\n",
      "Epoch 3/10\n",
      "1872/1872 [==============================] - 12s 7ms/step - loss: 0.5186 - accuracy: 0.8711\n",
      "Epoch 4/10\n",
      "1872/1872 [==============================] - 12s 7ms/step - loss: 0.7199 - accuracy: 0.8372\n",
      "Epoch 5/10\n",
      "1872/1872 [==============================] - 12s 7ms/step - loss: 0.5857 - accuracy: 0.8593\n",
      "Epoch 6/10\n",
      "1872/1872 [==============================] - 12s 7ms/step - loss: 0.5073 - accuracy: 0.8822\n",
      "Epoch 7/10\n",
      "1872/1872 [==============================] - 12s 7ms/step - loss: 0.3497 - accuracy: 0.9164\n",
      "Epoch 8/10\n",
      "1872/1872 [==============================] - 12s 7ms/step - loss: 0.3597 - accuracy: 0.9214\n",
      "Epoch 9/10\n",
      "1872/1872 [==============================] - 12s 7ms/step - loss: 0.3057 - accuracy: 0.9349\n",
      "Epoch 10/10\n",
      "1872/1872 [==============================] - 12s 7ms/step - loss: 0.3340 - accuracy: 0.9394\n",
      "936/936 [==============================] - 3s 4ms/step - loss: 9.2180 - accuracy: 0.4113\n",
      "Epoch 1/10\n",
      "1872/1872 [==============================] - 24s 13ms/step - loss: 51.8535 - accuracy: 0.4232\n",
      "Epoch 2/10\n",
      "1872/1872 [==============================] - 24s 13ms/step - loss: 1.4695 - accuracy: 0.6009\n",
      "Epoch 3/10\n",
      "1872/1872 [==============================] - 24s 13ms/step - loss: 1.0220 - accuracy: 0.7843\n",
      "Epoch 4/10\n",
      "1872/1872 [==============================] - 24s 13ms/step - loss: 1.2474 - accuracy: 0.8769\n",
      "Epoch 5/10\n",
      "1872/1872 [==============================] - 24s 13ms/step - loss: 1.2653 - accuracy: 0.9115\n",
      "Epoch 6/10\n",
      "1872/1872 [==============================] - 24s 13ms/step - loss: 1.2506 - accuracy: 0.9361\n",
      "Epoch 7/10\n",
      "1872/1872 [==============================] - 24s 13ms/step - loss: 1.3341 - accuracy: 0.9474\n",
      "Epoch 8/10\n",
      "1872/1872 [==============================] - 24s 13ms/step - loss: 0.9958 - accuracy: 0.9566\n",
      "Epoch 9/10\n",
      "1872/1872 [==============================] - 24s 13ms/step - loss: 1.0419 - accuracy: 0.9665\n",
      "Epoch 10/10\n",
      "1872/1872 [==============================] - 24s 13ms/step - loss: 1.6789 - accuracy: 0.9647\n",
      "936/936 [==============================] - 4s 4ms/step - loss: 33.2148 - accuracy: 0.5438\n",
      "Epoch 1/10\n",
      "   1/1872 [..............................] - ETA: 14s - loss: 35.3122 - accuracy: 0.6000WARNING:tensorflow:Callbacks method `on_train_batch_end` is slow compared to the batch time (batch time: 0.0039s vs `on_train_batch_end` time: 0.0078s). Check your callbacks.\n",
      "1872/1872 [==============================] - 24s 13ms/step - loss: 95.5209 - accuracy: 0.4013\n",
      "Epoch 2/10\n",
      "1872/1872 [==============================] - 24s 13ms/step - loss: 1.5707 - accuracy: 0.5609\n",
      "Epoch 3/10\n",
      "1872/1872 [==============================] - 24s 13ms/step - loss: 1.1631 - accuracy: 0.7437\n",
      "Epoch 4/10\n",
      "1872/1872 [==============================] - 24s 13ms/step - loss: 1.3787 - accuracy: 0.8528\n",
      "Epoch 5/10\n",
      "1872/1872 [==============================] - 24s 13ms/step - loss: 1.2409 - accuracy: 0.9093\n",
      "Epoch 6/10\n",
      "1872/1872 [==============================] - 24s 13ms/step - loss: 1.2182 - accuracy: 0.9357\n",
      "Epoch 7/10\n",
      "1872/1872 [==============================] - 24s 13ms/step - loss: 1.0149 - accuracy: 0.9505\n",
      "Epoch 8/10\n",
      "1872/1872 [==============================] - 24s 13ms/step - loss: 1.7344 - accuracy: 0.9520\n",
      "Epoch 9/10\n",
      "1872/1872 [==============================] - 24s 13ms/step - loss: 1.3744 - accuracy: 0.9607\n",
      "Epoch 10/10\n",
      "1872/1872 [==============================] - 24s 13ms/step - loss: 1.1831 - accuracy: 0.9645\n",
      "936/936 [==============================] - 4s 4ms/step - loss: 36.9771 - accuracy: 0.5312\n",
      "Epoch 1/10\n",
      "   1/1872 [..............................] - ETA: 14s - loss: 69.6753 - accuracy: 0.0000e+00WARNING:tensorflow:Callbacks method `on_train_batch_end` is slow compared to the batch time (batch time: 0.0042s vs `on_train_batch_end` time: 0.0078s). Check your callbacks.\n",
      "1872/1872 [==============================] - 24s 13ms/step - loss: 69.3602 - accuracy: 0.4194\n",
      "Epoch 2/10\n",
      "1872/1872 [==============================] - 24s 13ms/step - loss: 1.4459 - accuracy: 0.5533\n",
      "Epoch 3/10\n",
      "1872/1872 [==============================] - 24s 13ms/step - loss: 1.1269 - accuracy: 0.7177\n",
      "Epoch 4/10\n",
      "1872/1872 [==============================] - 24s 13ms/step - loss: 1.1205 - accuracy: 0.8326\n",
      "Epoch 5/10\n",
      "1872/1872 [==============================] - 24s 13ms/step - loss: 0.9866 - accuracy: 0.8929\n",
      "Epoch 6/10\n",
      "1872/1872 [==============================] - 24s 13ms/step - loss: 1.1216 - accuracy: 0.9303\n",
      "Epoch 7/10\n",
      "1872/1872 [==============================] - 24s 13ms/step - loss: 1.1610 - accuracy: 0.9416\n",
      "Epoch 8/10\n",
      "1872/1872 [==============================] - 24s 13ms/step - loss: 0.7040 - accuracy: 0.9568\n",
      "Epoch 9/10\n",
      "1872/1872 [==============================] - 24s 13ms/step - loss: 0.9975 - accuracy: 0.9632\n",
      "Epoch 10/10\n",
      "1872/1872 [==============================] - 24s 13ms/step - loss: 0.9057 - accuracy: 0.9647\n",
      "936/936 [==============================] - 4s 4ms/step - loss: 30.0214 - accuracy: 0.5237\n",
      "Epoch 1/10\n",
      "1872/1872 [==============================] - 13s 7ms/step - loss: 19.8275 - accuracy: 0.4097\n",
      "Epoch 2/10\n",
      "1872/1872 [==============================] - 13s 7ms/step - loss: 1.4107 - accuracy: 0.5714\n",
      "Epoch 3/10\n",
      "1872/1872 [==============================] - 13s 7ms/step - loss: 0.9972 - accuracy: 0.7517\n",
      "Epoch 4/10\n",
      "1872/1872 [==============================] - 13s 7ms/step - loss: 0.7609 - accuracy: 0.8621\n",
      "Epoch 5/10\n",
      "1872/1872 [==============================] - 13s 7ms/step - loss: 0.8761 - accuracy: 0.9039\n",
      "Epoch 6/10\n",
      "1872/1872 [==============================] - 13s 7ms/step - loss: 0.5659 - accuracy: 0.9283\n",
      "Epoch 7/10\n",
      "1872/1872 [==============================] - 13s 7ms/step - loss: 0.7473 - accuracy: 0.9412\n",
      "Epoch 8/10\n",
      "1872/1872 [==============================] - 13s 7ms/step - loss: 0.8044 - accuracy: 0.9459\n",
      "Epoch 9/10\n",
      "1872/1872 [==============================] - 13s 7ms/step - loss: 0.9246 - accuracy: 0.9569\n",
      "Epoch 10/10\n",
      "1872/1872 [==============================] - 13s 7ms/step - loss: 0.6871 - accuracy: 0.9623\n",
      "936/936 [==============================] - 3s 4ms/step - loss: 26.9969 - accuracy: 0.4718\n",
      "Epoch 1/10\n",
      "1872/1872 [==============================] - 13s 7ms/step - loss: 27.4773 - accuracy: 0.4060\n",
      "Epoch 2/10\n",
      "1872/1872 [==============================] - 13s 7ms/step - loss: 1.3189 - accuracy: 0.5788\n",
      "Epoch 3/10\n",
      "1872/1872 [==============================] - 13s 7ms/step - loss: 0.9286 - accuracy: 0.7532\n",
      "Epoch 4/10\n",
      "1872/1872 [==============================] - 13s 7ms/step - loss: 0.6262 - accuracy: 0.8711\n",
      "Epoch 5/10\n",
      "1872/1872 [==============================] - 13s 7ms/step - loss: 0.8030 - accuracy: 0.9086\n",
      "Epoch 6/10\n",
      "1872/1872 [==============================] - 13s 7ms/step - loss: 0.5882 - accuracy: 0.9376\n",
      "Epoch 7/10\n",
      "1872/1872 [==============================] - 13s 7ms/step - loss: 0.6989 - accuracy: 0.9490\n",
      "Epoch 8/10\n",
      "1872/1872 [==============================] - 13s 7ms/step - loss: 0.7233 - accuracy: 0.9569\n",
      "Epoch 9/10\n",
      "1872/1872 [==============================] - 13s 7ms/step - loss: 0.6362 - accuracy: 0.9655\n",
      "Epoch 10/10\n",
      "1872/1872 [==============================] - 13s 7ms/step - loss: 0.7412 - accuracy: 0.9657\n",
      "936/936 [==============================] - 3s 4ms/step - loss: 24.3794 - accuracy: 0.4927\n",
      "Epoch 1/10\n",
      "1872/1872 [==============================] - 13s 7ms/step - loss: 38.8202 - accuracy: 0.3903\n",
      "Epoch 2/10\n",
      "1872/1872 [==============================] - 13s 7ms/step - loss: 1.4240 - accuracy: 0.5570\n",
      "Epoch 3/10\n",
      "1872/1872 [==============================] - 13s 7ms/step - loss: 1.0014 - accuracy: 0.7212\n",
      "Epoch 4/10\n",
      "1872/1872 [==============================] - 13s 7ms/step - loss: 0.7936 - accuracy: 0.8290\n",
      "Epoch 5/10\n",
      "1872/1872 [==============================] - 13s 7ms/step - loss: 0.7492 - accuracy: 0.8848\n",
      "Epoch 6/10\n",
      "1872/1872 [==============================] - 13s 7ms/step - loss: 0.6602 - accuracy: 0.9198\n",
      "Epoch 7/10\n",
      "1872/1872 [==============================] - 13s 7ms/step - loss: 0.8007 - accuracy: 0.9396\n",
      "Epoch 8/10\n",
      "1872/1872 [==============================] - 13s 7ms/step - loss: 0.9440 - accuracy: 0.9446\n",
      "Epoch 9/10\n",
      "1872/1872 [==============================] - 13s 7ms/step - loss: 0.6846 - accuracy: 0.9539\n",
      "Epoch 10/10\n",
      "1872/1872 [==============================] - 13s 7ms/step - loss: 0.6887 - accuracy: 0.9608\n",
      "936/936 [==============================] - 3s 4ms/step - loss: 23.1090 - accuracy: 0.4705\n",
      "Epoch 1/10\n",
      "   1/2807 [..............................] - ETA: 22s - loss: 59.5769 - accuracy: 0.0000e+00WARNING:tensorflow:Callbacks method `on_train_batch_end` is slow compared to the batch time (batch time: 0.0038s vs `on_train_batch_end` time: 0.0081s). Check your callbacks.\n",
      "2807/2807 [==============================] - 36s 13ms/step - loss: 70.6033 - accuracy: 0.4196\n",
      "Epoch 2/10\n",
      "2807/2807 [==============================] - 36s 13ms/step - loss: 1.5957 - accuracy: 0.5341\n",
      "Epoch 3/10\n",
      "2807/2807 [==============================] - 36s 13ms/step - loss: 1.3936 - accuracy: 0.6746\n",
      "Epoch 4/10\n",
      "2807/2807 [==============================] - 36s 13ms/step - loss: 1.1735 - accuracy: 0.7966\n",
      "Epoch 5/10\n",
      "2807/2807 [==============================] - 36s 13ms/step - loss: 1.0457 - accuracy: 0.8732\n",
      "Epoch 6/10\n",
      "2807/2807 [==============================] - 36s 13ms/step - loss: 0.9599 - accuracy: 0.9060\n",
      "Epoch 7/10\n",
      "2807/2807 [==============================] - 36s 13ms/step - loss: 1.2442 - accuracy: 0.9280\n",
      "Epoch 8/10\n",
      "2807/2807 [==============================] - 36s 13ms/step - loss: 1.0118 - accuracy: 0.9417\n",
      "Epoch 9/10\n",
      "2807/2807 [==============================] - 36s 13ms/step - loss: 1.1516 - accuracy: 0.9513\n",
      "Epoch 10/10\n",
      "2807/2807 [==============================] - 36s 13ms/step - loss: 1.1935 - accuracy: 0.9563\n"
     ]
    }
   ],
   "source": [
    "grid_result = grid.fit(Images, Labels)"
   ]
  },
  {
   "cell_type": "code",
   "execution_count": 30,
   "metadata": {},
   "outputs": [
    {
     "name": "stdout",
     "output_type": "stream",
     "text": [
      "{'opt': 'rmsprop', 'nn2': 200, 'nn1': 64, 'lr': 0.001}\n"
     ]
    }
   ],
   "source": [
    "print(grid_result.best_params_)"
   ]
  },
  {
   "cell_type": "code",
   "execution_count": 31,
   "metadata": {},
   "outputs": [],
   "source": [
    "best_model = grid_result.best_estimator_.model"
   ]
  },
  {
   "cell_type": "code",
   "execution_count": 32,
   "metadata": {},
   "outputs": [],
   "source": [
    "test, test_labels = get_images(testDIR)\n",
    "test = np.array(test)\n",
    "test_labels = np.array(test_labels)"
   ]
  },
  {
   "cell_type": "code",
   "execution_count": 33,
   "metadata": {},
   "outputs": [
    {
     "name": "stdout",
     "output_type": "stream",
     "text": [
      "94/94 [==============================] - 1s 7ms/step - loss: 34.8607 - accuracy: 0.5457\n"
     ]
    },
    {
     "data": {
      "text/plain": [
       "[34.8607063293457, 0.5456666946411133]"
      ]
     },
     "execution_count": 33,
     "metadata": {},
     "output_type": "execute_result"
    }
   ],
   "source": [
    "best_model.evaluate(test,test_labels)"
   ]
  },
  {
   "cell_type": "code",
   "execution_count": null,
   "metadata": {},
   "outputs": [],
   "source": []
  },
  {
   "cell_type": "code",
   "execution_count": null,
   "metadata": {},
   "outputs": [],
   "source": []
  },
  {
   "cell_type": "code",
   "execution_count": null,
   "metadata": {},
   "outputs": [],
   "source": []
  },
  {
   "cell_type": "code",
   "execution_count": null,
   "metadata": {},
   "outputs": [],
   "source": []
  },
  {
   "cell_type": "code",
   "execution_count": null,
   "metadata": {},
   "outputs": [],
   "source": []
  }
 ],
 "metadata": {
  "kernelspec": {
   "display_name": "Python 3",
   "language": "python",
   "name": "python3"
  },
  "language_info": {
   "codemirror_mode": {
    "name": "ipython",
    "version": 3
   },
   "file_extension": ".py",
   "mimetype": "text/x-python",
   "name": "python",
   "nbconvert_exporter": "python",
   "pygments_lexer": "ipython3",
   "version": "3.6.9"
  }
 },
 "nbformat": 4,
 "nbformat_minor": 4
}
