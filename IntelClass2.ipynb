{
 "cells": [
  {
   "cell_type": "markdown",
   "metadata": {},
   "source": [
    "## **Project 2: Hyperparameter Optimization**"
   ]
  },
  {
   "cell_type": "code",
   "execution_count": 1,
   "metadata": {},
   "outputs": [],
   "source": [
    "import tensorflow as tf\n",
    "from tensorflow import keras\n",
    "from tensorflow.keras.models import Sequential\n",
    "from tensorflow.keras.layers import Dense, Convolution2D, MaxPooling2D, Flatten, Conv2D, Dropout, BatchNormalization\n",
    "import sklearn\n",
    "import numpy as np\n",
    "import matplotlib.pyplot as plt\n",
    "import os\n",
    "from tensorflow.keras.preprocessing import image"
   ]
  },
  {
   "cell_type": "code",
   "execution_count": 2,
   "metadata": {},
   "outputs": [],
   "source": [
    "trainDIR = '/workspace/seg_train/seg_train/'\n",
    "testDIR = '/workspace/seg_test/seg_test/'\n",
    "predDIR = '/workspace/seg_pred/seg_pred'"
   ]
  },
  {
   "cell_type": "code",
   "execution_count": 3,
   "metadata": {},
   "outputs": [],
   "source": [
    "def get_images(directory):\n",
    "    Images=[]\n",
    "    Labels=[]\n",
    "    \n",
    "    for labels in os.listdir(directory):\n",
    "        if labels == 'glacier':\n",
    "            label = 0\n",
    "        elif labels == 'sea':\n",
    "            label = 1\n",
    "        elif labels == 'buildings':\n",
    "            label = 2\n",
    "        elif labels == 'forest':\n",
    "            label = 3\n",
    "        elif labels == 'mountain':\n",
    "            label = 4\n",
    "        elif labels == 'street':\n",
    "            label = 5\n",
    "        \n",
    "        for file in os.listdir(directory+labels):\n",
    "            im =  image.load_img(directory+labels+r'/'+file, target_size=(150,150))\n",
    "            img = image.img_to_array(im)\n",
    "            Images.append(img)\n",
    "            Labels.append(label)\n",
    "    \n",
    "    Images, Labels = sklearn.utils.shuffle(Images, Labels, random_state=4)\n",
    "    return Images, Labels"
   ]
  },
  {
   "cell_type": "code",
   "execution_count": 4,
   "metadata": {},
   "outputs": [],
   "source": [
    "Images, Labels = get_images(trainDIR)\n",
    "Images = np.array(Images)\n",
    "Labels = np.array(Labels)"
   ]
  },
  {
   "cell_type": "code",
   "execution_count": 5,
   "metadata": {},
   "outputs": [],
   "source": [
    "train = Images[:3000]\n",
    "train_labels=Labels[:3000]"
   ]
  },
  {
   "cell_type": "code",
   "execution_count": 6,
   "metadata": {},
   "outputs": [],
   "source": [
    "test, test_labels = get_images(testDIR)\n",
    "test = np.array(test)\n",
    "test_labels = np.array(test_labels)"
   ]
  },
  {
   "cell_type": "code",
   "execution_count": 7,
   "metadata": {},
   "outputs": [
    {
     "data": {
      "text/plain": [
       "(3000, 150, 150, 3)"
      ]
     },
     "execution_count": 7,
     "metadata": {},
     "output_type": "execute_result"
    }
   ],
   "source": [
    "test.shape"
   ]
  },
  {
   "cell_type": "code",
   "execution_count": 8,
   "metadata": {},
   "outputs": [],
   "source": [
    "def create_model(lr=0.01, nl1 = 1, nl2 = 1,\n",
    "                 nn1 = 32, nn2 = 500, batch_size=32):\n",
    "    \n",
    "    opt = keras.optimizers.Adam(lr=lr)\n",
    "                                                     \n",
    "    model = Sequential()\n",
    "    \n",
    "    for i in range(nl1):\n",
    "        if i == 0:\n",
    "            model.add(Convolution2D(nn1,(3,3), input_shape=(150,150,3), activation='relu'))\n",
    "            model.add(MaxPooling2D((2,2)))\n",
    "            model.add(BatchNormalization())\n",
    "        else:\n",
    "            model.add(Convolution2D(nn1,(3,3), activation='relu'))\n",
    "            model.add(MaxPooling2D((2,2)))\n",
    "            model.add(BatchNormalization())\n",
    "        nn1/=2\n",
    "    model.add(Flatten())\n",
    "        \n",
    "    for i in range(nl2):\n",
    "        model.add(Dense(nn2, activation='relu'))\n",
    "        model.add(BatchNormalization())\n",
    "        nn2/=2\n",
    "    \n",
    "    model.add(Dropout(0))   \n",
    "    model.add(Dense(6, activation='softmax'))\n",
    "    \n",
    "    model.compile(loss='sparse_categorical_crossentropy', optimizer=opt, metrics=['accuracy'])\n",
    "    return model\n"
   ]
  },
  {
   "cell_type": "code",
   "execution_count": 9,
   "metadata": {},
   "outputs": [],
   "source": [
    "from tensorflow.keras.wrappers.scikit_learn import KerasClassifier\n",
    "\n",
    "# model class to use in the scikit random search CV \n",
    "model = KerasClassifier(build_fn=create_model, epochs=5, validation_split=0.25)"
   ]
  },
  {
   "cell_type": "code",
   "execution_count": 10,
   "metadata": {},
   "outputs": [],
   "source": [
    "# learning rate parameters\n",
    "lr=[1e-2, 1e-3]\n",
    "\n",
    "# of neurons in each layer\n",
    "nn1 = [64,32]\n",
    "nn2 = [1000,500]\n",
    "\n",
    "# of convolutional and maxpooling layers\n",
    "nl1 = [1,2]\n",
    "\n",
    "# of dense layers (exlcusing output layer)\n",
    "nl2 = [1,2]\n",
    "\n",
    "# batch_size\n",
    "batch_size=[64,32]\n",
    "\n",
    "# dictionary summary\n",
    "param_grid = dict(nn1= nn1, nn2 = nn2, lr=lr, nl1=nl1, nl2=nl2, batch_size=batch_size)"
   ]
  },
  {
   "cell_type": "code",
   "execution_count": 11,
   "metadata": {},
   "outputs": [],
   "source": [
    "from sklearn.model_selection import RandomizedSearchCV, KFold\n",
    "\n",
    "grid = RandomizedSearchCV(estimator=model, cv=KFold(3), param_distributions=param_grid, n_iter=3, n_jobs=1)"
   ]
  },
  {
   "cell_type": "code",
   "execution_count": 12,
   "metadata": {},
   "outputs": [
    {
     "name": "stdout",
     "output_type": "stream",
     "text": [
      "Epoch 1/5\n",
      "24/24 [==============================] - 1s 49ms/step - loss: 2.7233 - accuracy: 0.4373 - val_loss: 82.6323 - val_accuracy: 0.2240\n",
      "Epoch 2/5\n",
      "24/24 [==============================] - 1s 22ms/step - loss: 1.2984 - accuracy: 0.5653 - val_loss: 14.8851 - val_accuracy: 0.3140\n",
      "Epoch 3/5\n",
      "24/24 [==============================] - 0s 18ms/step - loss: 0.9918 - accuracy: 0.6300 - val_loss: 6.5919 - val_accuracy: 0.2080\n",
      "Epoch 4/5\n",
      "24/24 [==============================] - 0s 19ms/step - loss: 0.7892 - accuracy: 0.7280 - val_loss: 6.4545 - val_accuracy: 0.3080\n",
      "Epoch 5/5\n",
      "24/24 [==============================] - 0s 20ms/step - loss: 0.5901 - accuracy: 0.7760 - val_loss: 2.9408 - val_accuracy: 0.4580\n",
      "16/16 [==============================] - 0s 10ms/step - loss: 2.6332 - accuracy: 0.5150\n",
      "Epoch 1/5\n",
      "24/24 [==============================] - 1s 24ms/step - loss: 2.8986 - accuracy: 0.4267 - val_loss: 83.7706 - val_accuracy: 0.2240\n",
      "Epoch 2/5\n",
      "24/24 [==============================] - 0s 19ms/step - loss: 1.0761 - accuracy: 0.6073 - val_loss: 8.3190 - val_accuracy: 0.4560\n",
      "Epoch 3/5\n",
      "24/24 [==============================] - 0s 18ms/step - loss: 0.9245 - accuracy: 0.6647 - val_loss: 5.5949 - val_accuracy: 0.3980\n",
      "Epoch 4/5\n",
      "24/24 [==============================] - 0s 19ms/step - loss: 0.8314 - accuracy: 0.7200 - val_loss: 7.7480 - val_accuracy: 0.2440\n",
      "Epoch 5/5\n",
      "24/24 [==============================] - 1s 21ms/step - loss: 0.6083 - accuracy: 0.7907 - val_loss: 2.4467 - val_accuracy: 0.4400\n",
      "16/16 [==============================] - 0s 10ms/step - loss: 2.1928 - accuracy: 0.4920\n",
      "Epoch 1/5\n",
      "24/24 [==============================] - 1s 24ms/step - loss: 2.4643 - accuracy: 0.4607 - val_loss: 125.0446 - val_accuracy: 0.1720\n",
      "Epoch 2/5\n",
      "24/24 [==============================] - 0s 19ms/step - loss: 1.1256 - accuracy: 0.5967 - val_loss: 11.7726 - val_accuracy: 0.4620\n",
      "Epoch 3/5\n",
      "24/24 [==============================] - 0s 17ms/step - loss: 0.8168 - accuracy: 0.7013 - val_loss: 4.2156 - val_accuracy: 0.5280\n",
      "Epoch 4/5\n",
      "24/24 [==============================] - 0s 17ms/step - loss: 0.7501 - accuracy: 0.7307 - val_loss: 3.4914 - val_accuracy: 0.4760\n",
      "Epoch 5/5\n",
      "24/24 [==============================] - 0s 19ms/step - loss: 0.5406 - accuracy: 0.7907 - val_loss: 2.3815 - val_accuracy: 0.5440\n",
      "16/16 [==============================] - 0s 9ms/step - loss: 2.4394 - accuracy: 0.5160\n",
      "Epoch 1/5\n",
      "47/47 [==============================] - 1s 20ms/step - loss: 1.7533 - accuracy: 0.4807 - val_loss: 13.6010 - val_accuracy: 0.2960\n",
      "Epoch 2/5\n",
      "47/47 [==============================] - 1s 12ms/step - loss: 1.0734 - accuracy: 0.6133 - val_loss: 6.8374 - val_accuracy: 0.2720\n",
      "Epoch 3/5\n",
      "47/47 [==============================] - 1s 11ms/step - loss: 0.7996 - accuracy: 0.7013 - val_loss: 1.9378 - val_accuracy: 0.4840\n",
      "Epoch 4/5\n",
      "47/47 [==============================] - 1s 11ms/step - loss: 0.6210 - accuracy: 0.7700 - val_loss: 2.7442 - val_accuracy: 0.4680\n",
      "Epoch 5/5\n",
      "47/47 [==============================] - 1s 12ms/step - loss: 0.4931 - accuracy: 0.8273 - val_loss: 1.4577 - val_accuracy: 0.6100\n",
      "32/32 [==============================] - 0s 5ms/step - loss: 1.2878 - accuracy: 0.6150\n",
      "Epoch 1/5\n",
      "47/47 [==============================] - 1s 19ms/step - loss: 1.6308 - accuracy: 0.4927 - val_loss: 58.5381 - val_accuracy: 0.1720\n",
      "Epoch 2/5\n",
      "47/47 [==============================] - 1s 11ms/step - loss: 1.0496 - accuracy: 0.6193 - val_loss: 6.9967 - val_accuracy: 0.3640\n",
      "Epoch 3/5\n",
      "47/47 [==============================] - 1s 11ms/step - loss: 0.9011 - accuracy: 0.6833 - val_loss: 6.2362 - val_accuracy: 0.3420\n",
      "Epoch 4/5\n",
      "47/47 [==============================] - 1s 12ms/step - loss: 0.8139 - accuracy: 0.7240 - val_loss: 2.1718 - val_accuracy: 0.5240\n",
      "Epoch 5/5\n",
      "47/47 [==============================] - 1s 12ms/step - loss: 0.4817 - accuracy: 0.8313 - val_loss: 1.8475 - val_accuracy: 0.6080\n",
      "32/32 [==============================] - 0s 5ms/step - loss: 1.8988 - accuracy: 0.5750\n",
      "Epoch 1/5\n",
      "47/47 [==============================] - 1s 14ms/step - loss: 1.8094 - accuracy: 0.4753 - val_loss: 14.5054 - val_accuracy: 0.2720\n",
      "Epoch 2/5\n",
      "47/47 [==============================] - 1s 11ms/step - loss: 1.0268 - accuracy: 0.6160 - val_loss: 7.1418 - val_accuracy: 0.2800\n",
      "Epoch 3/5\n",
      "47/47 [==============================] - 1s 11ms/step - loss: 0.9235 - accuracy: 0.6620 - val_loss: 6.0208 - val_accuracy: 0.1940\n",
      "Epoch 4/5\n",
      "47/47 [==============================] - 1s 11ms/step - loss: 0.6798 - accuracy: 0.7507 - val_loss: 2.2235 - val_accuracy: 0.5300\n",
      "Epoch 5/5\n",
      "47/47 [==============================] - 1s 12ms/step - loss: 0.4771 - accuracy: 0.8207 - val_loss: 2.2605 - val_accuracy: 0.4680\n",
      "32/32 [==============================] - 0s 5ms/step - loss: 2.4623 - accuracy: 0.4190\n",
      "Epoch 1/5\n",
      "24/24 [==============================] - 1s 59ms/step - loss: 1.5001 - accuracy: 0.4800 - val_loss: 100.1104 - val_accuracy: 0.2560\n",
      "Epoch 2/5\n",
      "24/24 [==============================] - 1s 31ms/step - loss: 1.0328 - accuracy: 0.5813 - val_loss: 23.5958 - val_accuracy: 0.2100\n",
      "Epoch 3/5\n",
      "24/24 [==============================] - 1s 29ms/step - loss: 0.9401 - accuracy: 0.6260 - val_loss: 19.5714 - val_accuracy: 0.1940\n",
      "Epoch 4/5\n",
      "24/24 [==============================] - 1s 29ms/step - loss: 0.7656 - accuracy: 0.7133 - val_loss: 8.4926 - val_accuracy: 0.2500\n",
      "Epoch 5/5\n",
      "24/24 [==============================] - 1s 30ms/step - loss: 0.6290 - accuracy: 0.7800 - val_loss: 6.1886 - val_accuracy: 0.3420\n",
      "16/16 [==============================] - 0s 11ms/step - loss: 5.5153 - accuracy: 0.3340\n",
      "Epoch 1/5\n",
      "24/24 [==============================] - 1s 35ms/step - loss: 1.7652 - accuracy: 0.4373 - val_loss: 103.7360 - val_accuracy: 0.2120\n",
      "Epoch 2/5\n",
      "24/24 [==============================] - 1s 30ms/step - loss: 1.0857 - accuracy: 0.5653 - val_loss: 9.9524 - val_accuracy: 0.3700\n",
      "Epoch 3/5\n",
      "24/24 [==============================] - 1s 30ms/step - loss: 0.9789 - accuracy: 0.6080 - val_loss: 13.3922 - val_accuracy: 0.3420\n",
      "Epoch 4/5\n",
      "24/24 [==============================] - 1s 29ms/step - loss: 0.7317 - accuracy: 0.7247 - val_loss: 8.1317 - val_accuracy: 0.2860\n",
      "Epoch 5/5\n",
      "24/24 [==============================] - 1s 30ms/step - loss: 0.5681 - accuracy: 0.7760 - val_loss: 4.3964 - val_accuracy: 0.3920\n",
      "16/16 [==============================] - 0s 9ms/step - loss: 4.0288 - accuracy: 0.4140\n",
      "Epoch 1/5\n",
      "24/24 [==============================] - 1s 34ms/step - loss: 1.6381 - accuracy: 0.4487 - val_loss: 101.2991 - val_accuracy: 0.1840\n",
      "Epoch 2/5\n",
      "24/24 [==============================] - 1s 30ms/step - loss: 1.0857 - accuracy: 0.5747 - val_loss: 33.2797 - val_accuracy: 0.2300\n",
      "Epoch 3/5\n",
      "24/24 [==============================] - 1s 30ms/step - loss: 0.9211 - accuracy: 0.6487 - val_loss: 5.7464 - val_accuracy: 0.4240\n",
      "Epoch 4/5\n",
      "24/24 [==============================] - 1s 29ms/step - loss: 0.7116 - accuracy: 0.7127 - val_loss: 3.5115 - val_accuracy: 0.4420\n",
      "Epoch 5/5\n",
      "24/24 [==============================] - 1s 31ms/step - loss: 0.5261 - accuracy: 0.8160 - val_loss: 3.4109 - val_accuracy: 0.3480\n",
      "16/16 [==============================] - 0s 9ms/step - loss: 3.6015 - accuracy: 0.3510\n",
      "Epoch 1/5\n",
      "71/71 [==============================] - 1s 14ms/step - loss: 1.6665 - accuracy: 0.4956 - val_loss: 2.5588 - val_accuracy: 0.4853\n",
      "Epoch 2/5\n",
      "71/71 [==============================] - 1s 12ms/step - loss: 0.9629 - accuracy: 0.6413 - val_loss: 3.0038 - val_accuracy: 0.4107\n",
      "Epoch 3/5\n",
      "71/71 [==============================] - 1s 11ms/step - loss: 0.8714 - accuracy: 0.6796 - val_loss: 4.6280 - val_accuracy: 0.3200\n",
      "Epoch 4/5\n",
      "71/71 [==============================] - 1s 12ms/step - loss: 0.7661 - accuracy: 0.7209 - val_loss: 2.5092 - val_accuracy: 0.4547\n",
      "Epoch 5/5\n",
      "71/71 [==============================] - 1s 12ms/step - loss: 0.5372 - accuracy: 0.8058 - val_loss: 1.3889 - val_accuracy: 0.5693\n"
     ]
    }
   ],
   "source": [
    "grid_result = grid.fit(train, train_labels)"
   ]
  },
  {
   "cell_type": "code",
   "execution_count": 13,
   "metadata": {},
   "outputs": [
    {
     "name": "stdout",
     "output_type": "stream",
     "text": [
      "{'nn2': 500, 'nn1': 32, 'nl2': 1, 'nl1': 2, 'lr': 0.01, 'batch_size': 32}\n"
     ]
    }
   ],
   "source": [
    "print(grid_result.best_params_)"
   ]
  },
  {
   "cell_type": "code",
   "execution_count": 14,
   "metadata": {},
   "outputs": [],
   "source": [
    "best_model = grid_result.best_estimator_.model"
   ]
  },
  {
   "cell_type": "code",
   "execution_count": 15,
   "metadata": {},
   "outputs": [
    {
     "name": "stdout",
     "output_type": "stream",
     "text": [
      "94/94 [==============================] - 1s 5ms/step - loss: 1.3598 - accuracy: 0.5880\n"
     ]
    },
    {
     "data": {
      "text/plain": [
       "[1.3597904443740845, 0.5879999995231628]"
      ]
     },
     "execution_count": 15,
     "metadata": {},
     "output_type": "execute_result"
    }
   ],
   "source": [
    "best_model.evaluate(test,test_labels)"
   ]
  },
  {
   "cell_type": "code",
   "execution_count": null,
   "metadata": {},
   "outputs": [],
   "source": []
  },
  {
   "cell_type": "code",
   "execution_count": null,
   "metadata": {},
   "outputs": [],
   "source": []
  },
  {
   "cell_type": "code",
   "execution_count": null,
   "metadata": {},
   "outputs": [],
   "source": []
  },
  {
   "cell_type": "code",
   "execution_count": null,
   "metadata": {},
   "outputs": [],
   "source": []
  },
  {
   "cell_type": "code",
   "execution_count": null,
   "metadata": {},
   "outputs": [],
   "source": []
  }
 ],
 "metadata": {
  "kernelspec": {
   "display_name": "Python 3",
   "language": "python",
   "name": "python3"
  },
  "language_info": {
   "codemirror_mode": {
    "name": "ipython",
    "version": 3
   },
   "file_extension": ".py",
   "mimetype": "text/x-python",
   "name": "python",
   "nbconvert_exporter": "python",
   "pygments_lexer": "ipython3",
   "version": "3.6.9"
  }
 },
 "nbformat": 4,
 "nbformat_minor": 4
}
